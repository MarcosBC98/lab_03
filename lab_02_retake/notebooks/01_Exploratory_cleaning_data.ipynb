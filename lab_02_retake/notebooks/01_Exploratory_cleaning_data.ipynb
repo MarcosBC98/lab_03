{
 "cells": [
  {
   "cell_type": "markdown",
   "metadata": {},
   "source": [
    "# Marcos Barragán Corredera\n",
    "\n",
    "https://www.linkedin.com/in/marcos-barragán-corredera-7415931b7\n",
    "\n",
    "# Adrián González Retamosa\n",
    "\n",
    "https://www.linkedin.com/in/adrián-gonzález-retamosa-b283a51b3\n",
    "\n",
    "## Machine Learning\n",
    "\n",
    "## CUNEF\n",
    "\n",
    "### 04/12/2020"
   ]
  },
  {
   "cell_type": "markdown",
   "metadata": {},
   "source": [
    "# Exploration and cleaning data analysis"
   ]
  },
  {
   "cell_type": "code",
   "execution_count": 1,
   "metadata": {},
   "outputs": [],
   "source": [
    "import pandas as pd \n",
    "import numpy as np\n",
    "import matplotlib.pyplot as plt\n",
    "import seaborn as sns\n",
    "\n",
    "from sklearn.pipeline import Pipeline\n",
    "from sklearn.model_selection import train_test_split \n",
    "from sklearn.impute import SimpleImputer\n",
    "from sklearn.preprocessing import StandardScaler\n",
    "from sklearn.compose import ColumnTransformer\n",
    "\n",
    "import warnings\n",
    "warnings.filterwarnings(\"ignore\")"
   ]
  },
  {
   "cell_type": "code",
   "execution_count": 2,
   "metadata": {},
   "outputs": [],
   "source": [
    "path1 = '../data/Loan_training_set_1_4.csv'\n",
    "path2 = '../data/Loan_training_set_2_4.csv'\n",
    "path3 = '../data/Loan_training_set_3_4.csv'\n",
    "path4 = '../data/Loan_training_set_4_4.csv'"
   ]
  },
  {
   "cell_type": "code",
   "execution_count": 3,
   "metadata": {},
   "outputs": [],
   "source": [
    "df1 = pd.read_csv(path1, skiprows = 1, sep = ',')\n",
    "\n",
    "df1.drop(df1.tail(2).index, inplace = True)"
   ]
  },
  {
   "cell_type": "code",
   "execution_count": 4,
   "metadata": {},
   "outputs": [],
   "source": [
    "df2 = pd.read_csv(path2, skiprows = 1, sep = ',')\n",
    "\n",
    "df2.drop(df2.tail(2).index, inplace = True)"
   ]
  },
  {
   "cell_type": "code",
   "execution_count": 5,
   "metadata": {},
   "outputs": [],
   "source": [
    "df3 = pd.read_csv(path3, skiprows = 1, sep = ',')\n",
    "\n",
    "df3.drop(df3.tail(2).index, inplace = True)"
   ]
  },
  {
   "cell_type": "code",
   "execution_count": 6,
   "metadata": {},
   "outputs": [],
   "source": [
    "df4 = pd.read_csv(path4, skiprows = 1, sep = ',')\n",
    "\n",
    "df4.drop(df4.tail(2).index, inplace = True)"
   ]
  },
  {
   "cell_type": "markdown",
   "metadata": {},
   "source": [
    "We concatenate all of the data loadings:"
   ]
  },
  {
   "cell_type": "code",
   "execution_count": 7,
   "metadata": {},
   "outputs": [],
   "source": [
    "df_g = pd.concat([df1, df2, df3, df4])"
   ]
  },
  {
   "cell_type": "markdown",
   "metadata": {},
   "source": [
    "We want to check if there are duplicated values in our DataFrame, which contains all the data from the different 4 datasets loaded. To figure it out we will use _duplicated_ function of Python. "
   ]
  },
  {
   "cell_type": "code",
   "execution_count": 8,
   "metadata": {},
   "outputs": [],
   "source": [
    "duplicated = df_g[df_g.duplicated(keep = False)]"
   ]
  },
  {
   "cell_type": "code",
   "execution_count": 9,
   "metadata": {},
   "outputs": [
    {
     "data": {
      "text/html": [
       "<div>\n",
       "<style scoped>\n",
       "    .dataframe tbody tr th:only-of-type {\n",
       "        vertical-align: middle;\n",
       "    }\n",
       "\n",
       "    .dataframe tbody tr th {\n",
       "        vertical-align: top;\n",
       "    }\n",
       "\n",
       "    .dataframe thead th {\n",
       "        text-align: right;\n",
       "    }\n",
       "</style>\n",
       "<table border=\"1\" class=\"dataframe\">\n",
       "  <thead>\n",
       "    <tr style=\"text-align: right;\">\n",
       "      <th></th>\n",
       "      <th>id</th>\n",
       "      <th>member_id</th>\n",
       "      <th>loan_amnt</th>\n",
       "      <th>funded_amnt</th>\n",
       "      <th>funded_amnt_inv</th>\n",
       "      <th>term</th>\n",
       "      <th>int_rate</th>\n",
       "      <th>installment</th>\n",
       "      <th>grade</th>\n",
       "      <th>sub_grade</th>\n",
       "      <th>...</th>\n",
       "      <th>hardship_payoff_balance_amount</th>\n",
       "      <th>hardship_last_payment_amount</th>\n",
       "      <th>disbursement_method</th>\n",
       "      <th>debt_settlement_flag</th>\n",
       "      <th>debt_settlement_flag_date</th>\n",
       "      <th>settlement_status</th>\n",
       "      <th>settlement_date</th>\n",
       "      <th>settlement_amount</th>\n",
       "      <th>settlement_percentage</th>\n",
       "      <th>settlement_term</th>\n",
       "    </tr>\n",
       "  </thead>\n",
       "  <tbody>\n",
       "  </tbody>\n",
       "</table>\n",
       "<p>0 rows × 151 columns</p>\n",
       "</div>"
      ],
      "text/plain": [
       "Empty DataFrame\n",
       "Columns: [id, member_id, loan_amnt, funded_amnt, funded_amnt_inv, term, int_rate, installment, grade, sub_grade, emp_title, emp_length, home_ownership, annual_inc, verification_status, issue_d, loan_status, pymnt_plan, url, desc, purpose, title, zip_code, addr_state, dti, delinq_2yrs, earliest_cr_line, fico_range_low, fico_range_high, inq_last_6mths, mths_since_last_delinq, mths_since_last_record, open_acc, pub_rec, revol_bal, revol_util, total_acc, initial_list_status, out_prncp, out_prncp_inv, total_pymnt, total_pymnt_inv, total_rec_prncp, total_rec_int, total_rec_late_fee, recoveries, collection_recovery_fee, last_pymnt_d, last_pymnt_amnt, next_pymnt_d, last_credit_pull_d, last_fico_range_high, last_fico_range_low, collections_12_mths_ex_med, mths_since_last_major_derog, policy_code, application_type, annual_inc_joint, dti_joint, verification_status_joint, acc_now_delinq, tot_coll_amt, tot_cur_bal, open_acc_6m, open_act_il, open_il_12m, open_il_24m, mths_since_rcnt_il, total_bal_il, il_util, open_rv_12m, open_rv_24m, max_bal_bc, all_util, total_rev_hi_lim, inq_fi, total_cu_tl, inq_last_12m, acc_open_past_24mths, avg_cur_bal, bc_open_to_buy, bc_util, chargeoff_within_12_mths, delinq_amnt, mo_sin_old_il_acct, mo_sin_old_rev_tl_op, mo_sin_rcnt_rev_tl_op, mo_sin_rcnt_tl, mort_acc, mths_since_recent_bc, mths_since_recent_bc_dlq, mths_since_recent_inq, mths_since_recent_revol_delinq, num_accts_ever_120_pd, num_actv_bc_tl, num_actv_rev_tl, num_bc_sats, num_bc_tl, num_il_tl, num_op_rev_tl, ...]\n",
       "Index: []\n",
       "\n",
       "[0 rows x 151 columns]"
      ]
     },
     "execution_count": 9,
     "metadata": {},
     "output_type": "execute_result"
    }
   ],
   "source": [
    "duplicated"
   ]
  },
  {
   "cell_type": "markdown",
   "metadata": {},
   "source": [
    "We check that there are no duplicated values in our DataFrame, which is great because we won't have to concern about commiting duplicated errors."
   ]
  },
  {
   "cell_type": "markdown",
   "metadata": {},
   "source": [
    "### Droping variables"
   ]
  },
  {
   "cell_type": "markdown",
   "metadata": {},
   "source": [
    "Once we know the variables the dataset contains, we will apply _business knowledge_ to drop the variables present in our dataset. \n",
    "\n",
    "The variables which we delete in the first step are:\n",
    "\n",
    "+ `acc_open_past_24mths`: we think that other variables are better to explain\n",
    "+ `dti`\n",
    "+ `loan_amnt`\n",
    "+ `total_pymnt`\n",
    "+ `total_pymnt_inv`\n",
    "+ `total_rec_int`\n",
    "+ `total_rec_late_fee`\n",
    "+ `total_rec_prncp`\n",
    "+ `total_rev_hi_lim`\n",
    "+ `chargeoff_within_12_mths`\n",
    "+ `collection_recovery_fee`\n",
    "+ `collections_12_mths_ex_med`\n",
    "+ `debt_settlement_flag`\n",
    "+ `delinq_2yrs`\n",
    "+ `earliest_cr_line`\n",
    "+ `funded_amnt`\n",
    "+ `funded_amnt_inv`\n",
    "+ `id`\n",
    "+ `inq_last_6mths`\n",
    "+ `installment`\n",
    "+ `issue_d`\n",
    "+ `last_credit_pull_d`\n",
    "+ `last_pymnt_amnt`\n",
    "+ `last_pymnt_d`\n",
    "+ `mo_sin_old_rev_tl_op`\n",
    "+ `mo_sin_rcnt_tl`\n",
    "+ `mths_since_recent_bc`\n",
    "+ `mths_since_recent_inq`\n",
    "+ `num_accts_ever_120_pd`\n",
    "+ `num_actv_bc_tl`\n",
    "+ `num_actv_rev_tl`\n",
    "+ `num_bc_tl`\n",
    "+ `num_il_tl`\n",
    "+ `num_op_rev_tl`\n",
    "+ `num_rev_accts`\n",
    "+ `num_rev_tl_bal_gt_0`\n",
    "+ `num_sats`\n",
    "+ `num_tl_30dpd`\n",
    "+ `num_tl_90g_dpd_24m`\n",
    "+ `num_tl_op_past_12m`\n",
    "+ `open_acc`\n",
    "+ `out_prncp`\n",
    "+ `out_prncp_inv`\n",
    "+ `policy_code`\n",
    "+ `pub_rec_bankruptcies`\n",
    "+ `recoveries`\n",
    "+ `revol_bal`\n",
    "+ `revol_util`\n",
    "+ `tax_liens`\n",
    "+ `term`\n",
    "+ `total_il_high_credit_limit`\n",
    "+ `url`"
   ]
  },
  {
   "cell_type": "code",
   "execution_count": 10,
   "metadata": {},
   "outputs": [],
   "source": [
    "df_g = df_g.drop(['acc_open_past_24mths', \n",
    "                  'dti',\n",
    "                  'loan_amnt',\n",
    "                  'total_pymnt',\n",
    "                  'total_pymnt_inv',\n",
    "                  'total_rec_int',\n",
    "                  'total_rec_late_fee',\n",
    "                  'total_rec_prncp',\n",
    "                  'total_rev_hi_lim',\n",
    "                  'chargeoff_within_12_mths',\n",
    "                  'collection_recovery_fee',\n",
    "                  'collections_12_mths_ex_med',\n",
    "                  'debt_settlement_flag',\n",
    "                  'delinq_2yrs',\n",
    "                  'earliest_cr_line',\n",
    "                  'funded_amnt',\n",
    "                  'funded_amnt_inv',\n",
    "                  'id',\n",
    "                  'inq_last_6mths',\n",
    "                  'installment',\n",
    "                  'issue_d',\n",
    "                  'last_credit_pull_d',\n",
    "                  'last_pymnt_amnt',\n",
    "                  'last_pymnt_d',\n",
    "                  'mo_sin_old_rev_tl_op',\n",
    "                  'mo_sin_rcnt_tl',\n",
    "                  'mths_since_recent_bc',\n",
    "                  'mths_since_recent_inq',\n",
    "                  'num_accts_ever_120_pd',\n",
    "                  'num_actv_bc_tl',\n",
    "                  'num_actv_rev_tl',\n",
    "                  'num_bc_tl',\n",
    "                  'num_il_tl',\n",
    "                  'num_op_rev_tl',\n",
    "                  'num_rev_accts',\n",
    "                  'num_rev_tl_bal_gt_0',\n",
    "                  'num_sats',\n",
    "                  'num_tl_30dpd',\n",
    "                  'num_tl_90g_dpd_24m',\n",
    "                  'num_tl_op_past_12m',\n",
    "                  'open_acc',\n",
    "                  'out_prncp',\n",
    "                  'out_prncp_inv',\n",
    "                  'policy_code',\n",
    "                  'pub_rec_bankruptcies',\n",
    "                  'recoveries',\n",
    "                  'revol_bal',\n",
    "                  'revol_util',\n",
    "                  'tax_liens',\n",
    "                  'term',\n",
    "                  'total_il_high_credit_limit', \n",
    "                  'url'], \n",
    "                  axis='columns')"
   ]
  },
  {
   "cell_type": "markdown",
   "metadata": {},
   "source": [
    "The next step is done because we started to analyze data by sampling it into 500 observations, and we saved it into `df`. Due to this, all the calls downside were done with this name. \n",
    "\n",
    "In order not to correct all the names below, we transform df_g into df."
   ]
  },
  {
   "cell_type": "code",
   "execution_count": 11,
   "metadata": {},
   "outputs": [],
   "source": [
    "df = df_g"
   ]
  },
  {
   "cell_type": "markdown",
   "metadata": {},
   "source": [
    "We see that there are a lot of NaN values in the dataset. In our case, we would consider only those variables whose contribution of NaN values is $ < 70 \\%$. Those which have more than $ 70 \\% $ as wrong data values will be deleted."
   ]
  },
  {
   "cell_type": "code",
   "execution_count": 12,
   "metadata": {},
   "outputs": [
    {
     "data": {
      "text/plain": [
       "(884876, 41)"
      ]
     },
     "execution_count": 12,
     "metadata": {},
     "output_type": "execute_result"
    }
   ],
   "source": [
    "# eliminamos las variables con mas del 70% de obs con NaN\n",
    "filtro_Nan = len(df) * .7\n",
    "df.dropna(thresh = filtro_Nan, axis = 'columns', inplace = True)\n",
    "df.shape"
   ]
  },
  {
   "cell_type": "markdown",
   "metadata": {},
   "source": [
    "These are the variables we are taking in consideration:"
   ]
  },
  {
   "cell_type": "code",
   "execution_count": 13,
   "metadata": {},
   "outputs": [
    {
     "data": {
      "text/plain": [
       "Index(['int_rate', 'grade', 'sub_grade', 'emp_title', 'emp_length',\n",
       "       'home_ownership', 'annual_inc', 'verification_status', 'loan_status',\n",
       "       'pymnt_plan', 'purpose', 'title', 'zip_code', 'addr_state',\n",
       "       'fico_range_low', 'fico_range_high', 'pub_rec', 'total_acc',\n",
       "       'initial_list_status', 'last_fico_range_high', 'last_fico_range_low',\n",
       "       'application_type', 'acc_now_delinq', 'tot_coll_amt', 'tot_cur_bal',\n",
       "       'avg_cur_bal', 'bc_open_to_buy', 'bc_util', 'delinq_amnt',\n",
       "       'mo_sin_old_il_acct', 'mo_sin_rcnt_rev_tl_op', 'mort_acc',\n",
       "       'num_bc_sats', 'num_tl_120dpd_2m', 'pct_tl_nvr_dlq', 'percent_bc_gt_75',\n",
       "       'tot_hi_cred_lim', 'total_bal_ex_mort', 'total_bc_limit',\n",
       "       'hardship_flag', 'disbursement_method'],\n",
       "      dtype='object')"
      ]
     },
     "execution_count": 13,
     "metadata": {},
     "output_type": "execute_result"
    }
   ],
   "source": [
    "df.columns"
   ]
  },
  {
   "cell_type": "code",
   "execution_count": 12,
   "metadata": {},
   "outputs": [],
   "source": [
    "#sns.countplot(x = df.emp_title, data = df)"
   ]
  },
  {
   "cell_type": "markdown",
   "metadata": {},
   "source": [
    "We see that, after dropping variables with more than a 70% of NaN values, we have a new dataset composed of 41 columns only.\n",
    "\n",
    "If we check the type of the variables we are working with, we will see:"
   ]
  },
  {
   "cell_type": "code",
   "execution_count": 13,
   "metadata": {
    "scrolled": false
   },
   "outputs": [
    {
     "data": {
      "text/html": [
       "<div>\n",
       "<style scoped>\n",
       "    .dataframe tbody tr th:only-of-type {\n",
       "        vertical-align: middle;\n",
       "    }\n",
       "\n",
       "    .dataframe tbody tr th {\n",
       "        vertical-align: top;\n",
       "    }\n",
       "\n",
       "    .dataframe thead th {\n",
       "        text-align: right;\n",
       "    }\n",
       "</style>\n",
       "<table border=\"1\" class=\"dataframe\">\n",
       "  <thead>\n",
       "    <tr style=\"text-align: right;\">\n",
       "      <th></th>\n",
       "      <th>index</th>\n",
       "      <th>NaN_values</th>\n",
       "      <th>types</th>\n",
       "    </tr>\n",
       "  </thead>\n",
       "  <tbody>\n",
       "    <tr>\n",
       "      <th>0</th>\n",
       "      <td>int_rate</td>\n",
       "      <td>0</td>\n",
       "      <td>object</td>\n",
       "    </tr>\n",
       "    <tr>\n",
       "      <th>1</th>\n",
       "      <td>last_fico_range_high</td>\n",
       "      <td>0</td>\n",
       "      <td>float64</td>\n",
       "    </tr>\n",
       "    <tr>\n",
       "      <th>2</th>\n",
       "      <td>hardship_flag</td>\n",
       "      <td>0</td>\n",
       "      <td>object</td>\n",
       "    </tr>\n",
       "    <tr>\n",
       "      <th>3</th>\n",
       "      <td>application_type</td>\n",
       "      <td>0</td>\n",
       "      <td>object</td>\n",
       "    </tr>\n",
       "    <tr>\n",
       "      <th>4</th>\n",
       "      <td>acc_now_delinq</td>\n",
       "      <td>0</td>\n",
       "      <td>float64</td>\n",
       "    </tr>\n",
       "    <tr>\n",
       "      <th>5</th>\n",
       "      <td>tot_coll_amt</td>\n",
       "      <td>0</td>\n",
       "      <td>float64</td>\n",
       "    </tr>\n",
       "    <tr>\n",
       "      <th>6</th>\n",
       "      <td>tot_cur_bal</td>\n",
       "      <td>0</td>\n",
       "      <td>float64</td>\n",
       "    </tr>\n",
       "    <tr>\n",
       "      <th>7</th>\n",
       "      <td>initial_list_status</td>\n",
       "      <td>0</td>\n",
       "      <td>object</td>\n",
       "    </tr>\n",
       "    <tr>\n",
       "      <th>8</th>\n",
       "      <td>delinq_amnt</td>\n",
       "      <td>0</td>\n",
       "      <td>float64</td>\n",
       "    </tr>\n",
       "    <tr>\n",
       "      <th>9</th>\n",
       "      <td>mort_acc</td>\n",
       "      <td>0</td>\n",
       "      <td>float64</td>\n",
       "    </tr>\n",
       "    <tr>\n",
       "      <th>10</th>\n",
       "      <td>num_bc_sats</td>\n",
       "      <td>0</td>\n",
       "      <td>float64</td>\n",
       "    </tr>\n",
       "    <tr>\n",
       "      <th>11</th>\n",
       "      <td>pct_tl_nvr_dlq</td>\n",
       "      <td>0</td>\n",
       "      <td>float64</td>\n",
       "    </tr>\n",
       "    <tr>\n",
       "      <th>12</th>\n",
       "      <td>tot_hi_cred_lim</td>\n",
       "      <td>0</td>\n",
       "      <td>float64</td>\n",
       "    </tr>\n",
       "    <tr>\n",
       "      <th>13</th>\n",
       "      <td>total_bal_ex_mort</td>\n",
       "      <td>0</td>\n",
       "      <td>float64</td>\n",
       "    </tr>\n",
       "    <tr>\n",
       "      <th>14</th>\n",
       "      <td>total_bc_limit</td>\n",
       "      <td>0</td>\n",
       "      <td>float64</td>\n",
       "    </tr>\n",
       "    <tr>\n",
       "      <th>15</th>\n",
       "      <td>mo_sin_rcnt_rev_tl_op</td>\n",
       "      <td>0</td>\n",
       "      <td>float64</td>\n",
       "    </tr>\n",
       "    <tr>\n",
       "      <th>16</th>\n",
       "      <td>total_acc</td>\n",
       "      <td>0</td>\n",
       "      <td>float64</td>\n",
       "    </tr>\n",
       "    <tr>\n",
       "      <th>17</th>\n",
       "      <td>last_fico_range_low</td>\n",
       "      <td>0</td>\n",
       "      <td>float64</td>\n",
       "    </tr>\n",
       "    <tr>\n",
       "      <th>18</th>\n",
       "      <td>fico_range_high</td>\n",
       "      <td>0</td>\n",
       "      <td>float64</td>\n",
       "    </tr>\n",
       "    <tr>\n",
       "      <th>19</th>\n",
       "      <td>grade</td>\n",
       "      <td>0</td>\n",
       "      <td>object</td>\n",
       "    </tr>\n",
       "    <tr>\n",
       "      <th>20</th>\n",
       "      <td>sub_grade</td>\n",
       "      <td>0</td>\n",
       "      <td>object</td>\n",
       "    </tr>\n",
       "    <tr>\n",
       "      <th>21</th>\n",
       "      <td>home_ownership</td>\n",
       "      <td>0</td>\n",
       "      <td>object</td>\n",
       "    </tr>\n",
       "    <tr>\n",
       "      <th>22</th>\n",
       "      <td>annual_inc</td>\n",
       "      <td>0</td>\n",
       "      <td>float64</td>\n",
       "    </tr>\n",
       "    <tr>\n",
       "      <th>23</th>\n",
       "      <td>verification_status</td>\n",
       "      <td>0</td>\n",
       "      <td>object</td>\n",
       "    </tr>\n",
       "    <tr>\n",
       "      <th>24</th>\n",
       "      <td>pub_rec</td>\n",
       "      <td>0</td>\n",
       "      <td>float64</td>\n",
       "    </tr>\n",
       "    <tr>\n",
       "      <th>25</th>\n",
       "      <td>loan_status</td>\n",
       "      <td>0</td>\n",
       "      <td>object</td>\n",
       "    </tr>\n",
       "    <tr>\n",
       "      <th>26</th>\n",
       "      <td>disbursement_method</td>\n",
       "      <td>0</td>\n",
       "      <td>object</td>\n",
       "    </tr>\n",
       "    <tr>\n",
       "      <th>27</th>\n",
       "      <td>pymnt_plan</td>\n",
       "      <td>0</td>\n",
       "      <td>object</td>\n",
       "    </tr>\n",
       "    <tr>\n",
       "      <th>28</th>\n",
       "      <td>purpose</td>\n",
       "      <td>0</td>\n",
       "      <td>object</td>\n",
       "    </tr>\n",
       "    <tr>\n",
       "      <th>29</th>\n",
       "      <td>zip_code</td>\n",
       "      <td>0</td>\n",
       "      <td>object</td>\n",
       "    </tr>\n",
       "    <tr>\n",
       "      <th>30</th>\n",
       "      <td>addr_state</td>\n",
       "      <td>0</td>\n",
       "      <td>object</td>\n",
       "    </tr>\n",
       "    <tr>\n",
       "      <th>31</th>\n",
       "      <td>fico_range_low</td>\n",
       "      <td>0</td>\n",
       "      <td>float64</td>\n",
       "    </tr>\n",
       "    <tr>\n",
       "      <th>32</th>\n",
       "      <td>avg_cur_bal</td>\n",
       "      <td>13</td>\n",
       "      <td>float64</td>\n",
       "    </tr>\n",
       "    <tr>\n",
       "      <th>33</th>\n",
       "      <td>title</td>\n",
       "      <td>132</td>\n",
       "      <td>object</td>\n",
       "    </tr>\n",
       "    <tr>\n",
       "      <th>34</th>\n",
       "      <td>bc_open_to_buy</td>\n",
       "      <td>9287</td>\n",
       "      <td>float64</td>\n",
       "    </tr>\n",
       "    <tr>\n",
       "      <th>35</th>\n",
       "      <td>percent_bc_gt_75</td>\n",
       "      <td>9680</td>\n",
       "      <td>float64</td>\n",
       "    </tr>\n",
       "    <tr>\n",
       "      <th>36</th>\n",
       "      <td>bc_util</td>\n",
       "      <td>9824</td>\n",
       "      <td>float64</td>\n",
       "    </tr>\n",
       "    <tr>\n",
       "      <th>37</th>\n",
       "      <td>mo_sin_old_il_acct</td>\n",
       "      <td>25614</td>\n",
       "      <td>float64</td>\n",
       "    </tr>\n",
       "    <tr>\n",
       "      <th>38</th>\n",
       "      <td>num_tl_120dpd_2m</td>\n",
       "      <td>37803</td>\n",
       "      <td>float64</td>\n",
       "    </tr>\n",
       "    <tr>\n",
       "      <th>39</th>\n",
       "      <td>emp_length</td>\n",
       "      <td>51193</td>\n",
       "      <td>object</td>\n",
       "    </tr>\n",
       "    <tr>\n",
       "      <th>40</th>\n",
       "      <td>emp_title</td>\n",
       "      <td>52693</td>\n",
       "      <td>object</td>\n",
       "    </tr>\n",
       "  </tbody>\n",
       "</table>\n",
       "</div>"
      ],
      "text/plain": [
       "                    index  NaN_values    types\n",
       "0                int_rate           0   object\n",
       "1    last_fico_range_high           0  float64\n",
       "2           hardship_flag           0   object\n",
       "3        application_type           0   object\n",
       "4          acc_now_delinq           0  float64\n",
       "5            tot_coll_amt           0  float64\n",
       "6             tot_cur_bal           0  float64\n",
       "7     initial_list_status           0   object\n",
       "8             delinq_amnt           0  float64\n",
       "9                mort_acc           0  float64\n",
       "10            num_bc_sats           0  float64\n",
       "11         pct_tl_nvr_dlq           0  float64\n",
       "12        tot_hi_cred_lim           0  float64\n",
       "13      total_bal_ex_mort           0  float64\n",
       "14         total_bc_limit           0  float64\n",
       "15  mo_sin_rcnt_rev_tl_op           0  float64\n",
       "16              total_acc           0  float64\n",
       "17    last_fico_range_low           0  float64\n",
       "18        fico_range_high           0  float64\n",
       "19                  grade           0   object\n",
       "20              sub_grade           0   object\n",
       "21         home_ownership           0   object\n",
       "22             annual_inc           0  float64\n",
       "23    verification_status           0   object\n",
       "24                pub_rec           0  float64\n",
       "25            loan_status           0   object\n",
       "26    disbursement_method           0   object\n",
       "27             pymnt_plan           0   object\n",
       "28                purpose           0   object\n",
       "29               zip_code           0   object\n",
       "30             addr_state           0   object\n",
       "31         fico_range_low           0  float64\n",
       "32            avg_cur_bal          13  float64\n",
       "33                  title         132   object\n",
       "34         bc_open_to_buy        9287  float64\n",
       "35       percent_bc_gt_75        9680  float64\n",
       "36                bc_util        9824  float64\n",
       "37     mo_sin_old_il_acct       25614  float64\n",
       "38       num_tl_120dpd_2m       37803  float64\n",
       "39             emp_length       51193   object\n",
       "40              emp_title       52693   object"
      ]
     },
     "execution_count": 13,
     "metadata": {},
     "output_type": "execute_result"
    }
   ],
   "source": [
    "#vemos el tipo de nuestras variables y la cantidad de NaN\n",
    "df_typ = pd.merge(df.isnull().sum(axis = 0).sort_values().to_frame('NaN_values').reset_index(),\n",
    "                     df.dtypes.to_frame('types').reset_index(),\n",
    "                     on = 'index',\n",
    "                     how = 'inner')\n",
    "df_typ"
   ]
  },
  {
   "cell_type": "markdown",
   "metadata": {},
   "source": [
    "Let see the principal statistics measures of the numeric values in our dataset once we have dropped the variables we are not going to consider:"
   ]
  },
  {
   "cell_type": "code",
   "execution_count": 14,
   "metadata": {
    "scrolled": false
   },
   "outputs": [
    {
     "data": {
      "text/html": [
       "<div>\n",
       "<style scoped>\n",
       "    .dataframe tbody tr th:only-of-type {\n",
       "        vertical-align: middle;\n",
       "    }\n",
       "\n",
       "    .dataframe tbody tr th {\n",
       "        vertical-align: top;\n",
       "    }\n",
       "\n",
       "    .dataframe thead th {\n",
       "        text-align: right;\n",
       "    }\n",
       "</style>\n",
       "<table border=\"1\" class=\"dataframe\">\n",
       "  <thead>\n",
       "    <tr style=\"text-align: right;\">\n",
       "      <th></th>\n",
       "      <th>count</th>\n",
       "      <th>mean</th>\n",
       "      <th>std</th>\n",
       "      <th>min</th>\n",
       "      <th>25%</th>\n",
       "      <th>50%</th>\n",
       "      <th>75%</th>\n",
       "      <th>max</th>\n",
       "    </tr>\n",
       "  </thead>\n",
       "  <tbody>\n",
       "    <tr>\n",
       "      <th>annual_inc</th>\n",
       "      <td>884876.0</td>\n",
       "      <td>77102.415</td>\n",
       "      <td>135491.609</td>\n",
       "      <td>0.0</td>\n",
       "      <td>46000.0</td>\n",
       "      <td>65000.0</td>\n",
       "      <td>92000.00</td>\n",
       "      <td>110000000.0</td>\n",
       "    </tr>\n",
       "    <tr>\n",
       "      <th>fico_range_low</th>\n",
       "      <td>884876.0</td>\n",
       "      <td>694.699</td>\n",
       "      <td>30.936</td>\n",
       "      <td>660.0</td>\n",
       "      <td>670.0</td>\n",
       "      <td>685.0</td>\n",
       "      <td>710.00</td>\n",
       "      <td>845.0</td>\n",
       "    </tr>\n",
       "    <tr>\n",
       "      <th>fico_range_high</th>\n",
       "      <td>884876.0</td>\n",
       "      <td>698.699</td>\n",
       "      <td>30.937</td>\n",
       "      <td>664.0</td>\n",
       "      <td>674.0</td>\n",
       "      <td>689.0</td>\n",
       "      <td>714.00</td>\n",
       "      <td>850.0</td>\n",
       "    </tr>\n",
       "    <tr>\n",
       "      <th>pub_rec</th>\n",
       "      <td>884876.0</td>\n",
       "      <td>0.226</td>\n",
       "      <td>0.623</td>\n",
       "      <td>0.0</td>\n",
       "      <td>0.0</td>\n",
       "      <td>0.0</td>\n",
       "      <td>0.00</td>\n",
       "      <td>86.0</td>\n",
       "    </tr>\n",
       "    <tr>\n",
       "      <th>total_acc</th>\n",
       "      <td>884876.0</td>\n",
       "      <td>25.112</td>\n",
       "      <td>12.022</td>\n",
       "      <td>2.0</td>\n",
       "      <td>16.0</td>\n",
       "      <td>23.0</td>\n",
       "      <td>32.00</td>\n",
       "      <td>169.0</td>\n",
       "    </tr>\n",
       "    <tr>\n",
       "      <th>last_fico_range_high</th>\n",
       "      <td>884876.0</td>\n",
       "      <td>686.138</td>\n",
       "      <td>70.031</td>\n",
       "      <td>0.0</td>\n",
       "      <td>659.0</td>\n",
       "      <td>694.0</td>\n",
       "      <td>729.00</td>\n",
       "      <td>850.0</td>\n",
       "    </tr>\n",
       "    <tr>\n",
       "      <th>last_fico_range_low</th>\n",
       "      <td>884876.0</td>\n",
       "      <td>675.260</td>\n",
       "      <td>104.092</td>\n",
       "      <td>0.0</td>\n",
       "      <td>655.0</td>\n",
       "      <td>690.0</td>\n",
       "      <td>725.00</td>\n",
       "      <td>845.0</td>\n",
       "    </tr>\n",
       "    <tr>\n",
       "      <th>acc_now_delinq</th>\n",
       "      <td>884876.0</td>\n",
       "      <td>0.006</td>\n",
       "      <td>0.083</td>\n",
       "      <td>0.0</td>\n",
       "      <td>0.0</td>\n",
       "      <td>0.0</td>\n",
       "      <td>0.00</td>\n",
       "      <td>14.0</td>\n",
       "    </tr>\n",
       "    <tr>\n",
       "      <th>tot_coll_amt</th>\n",
       "      <td>884876.0</td>\n",
       "      <td>253.656</td>\n",
       "      <td>9942.521</td>\n",
       "      <td>0.0</td>\n",
       "      <td>0.0</td>\n",
       "      <td>0.0</td>\n",
       "      <td>0.00</td>\n",
       "      <td>9152545.0</td>\n",
       "    </tr>\n",
       "    <tr>\n",
       "      <th>tot_cur_bal</th>\n",
       "      <td>884876.0</td>\n",
       "      <td>141334.587</td>\n",
       "      <td>156637.669</td>\n",
       "      <td>0.0</td>\n",
       "      <td>30180.0</td>\n",
       "      <td>80608.5</td>\n",
       "      <td>210655.00</td>\n",
       "      <td>4447397.0</td>\n",
       "    </tr>\n",
       "    <tr>\n",
       "      <th>avg_cur_bal</th>\n",
       "      <td>884863.0</td>\n",
       "      <td>13354.806</td>\n",
       "      <td>15985.456</td>\n",
       "      <td>0.0</td>\n",
       "      <td>3148.0</td>\n",
       "      <td>7375.0</td>\n",
       "      <td>18484.00</td>\n",
       "      <td>555925.0</td>\n",
       "    </tr>\n",
       "    <tr>\n",
       "      <th>bc_open_to_buy</th>\n",
       "      <td>875589.0</td>\n",
       "      <td>9947.906</td>\n",
       "      <td>15123.770</td>\n",
       "      <td>0.0</td>\n",
       "      <td>1394.0</td>\n",
       "      <td>4514.0</td>\n",
       "      <td>12032.00</td>\n",
       "      <td>559912.0</td>\n",
       "    </tr>\n",
       "    <tr>\n",
       "      <th>bc_util</th>\n",
       "      <td>875052.0</td>\n",
       "      <td>61.236</td>\n",
       "      <td>27.760</td>\n",
       "      <td>0.0</td>\n",
       "      <td>40.2</td>\n",
       "      <td>64.6</td>\n",
       "      <td>85.70</td>\n",
       "      <td>318.2</td>\n",
       "    </tr>\n",
       "    <tr>\n",
       "      <th>delinq_amnt</th>\n",
       "      <td>884876.0</td>\n",
       "      <td>13.943</td>\n",
       "      <td>790.341</td>\n",
       "      <td>0.0</td>\n",
       "      <td>0.0</td>\n",
       "      <td>0.0</td>\n",
       "      <td>0.00</td>\n",
       "      <td>249925.0</td>\n",
       "    </tr>\n",
       "    <tr>\n",
       "      <th>mo_sin_old_il_acct</th>\n",
       "      <td>859262.0</td>\n",
       "      <td>127.253</td>\n",
       "      <td>52.471</td>\n",
       "      <td>0.0</td>\n",
       "      <td>100.0</td>\n",
       "      <td>130.0</td>\n",
       "      <td>154.00</td>\n",
       "      <td>999.0</td>\n",
       "    </tr>\n",
       "    <tr>\n",
       "      <th>mo_sin_rcnt_rev_tl_op</th>\n",
       "      <td>884876.0</td>\n",
       "      <td>13.541</td>\n",
       "      <td>17.013</td>\n",
       "      <td>0.0</td>\n",
       "      <td>4.0</td>\n",
       "      <td>8.0</td>\n",
       "      <td>16.00</td>\n",
       "      <td>372.0</td>\n",
       "    </tr>\n",
       "    <tr>\n",
       "      <th>mort_acc</th>\n",
       "      <td>884876.0</td>\n",
       "      <td>1.654</td>\n",
       "      <td>1.983</td>\n",
       "      <td>0.0</td>\n",
       "      <td>0.0</td>\n",
       "      <td>1.0</td>\n",
       "      <td>3.00</td>\n",
       "      <td>94.0</td>\n",
       "    </tr>\n",
       "    <tr>\n",
       "      <th>num_bc_sats</th>\n",
       "      <td>884876.0</td>\n",
       "      <td>4.752</td>\n",
       "      <td>2.979</td>\n",
       "      <td>0.0</td>\n",
       "      <td>3.0</td>\n",
       "      <td>4.0</td>\n",
       "      <td>6.00</td>\n",
       "      <td>63.0</td>\n",
       "    </tr>\n",
       "    <tr>\n",
       "      <th>num_tl_120dpd_2m</th>\n",
       "      <td>847073.0</td>\n",
       "      <td>0.001</td>\n",
       "      <td>0.032</td>\n",
       "      <td>0.0</td>\n",
       "      <td>0.0</td>\n",
       "      <td>0.0</td>\n",
       "      <td>0.00</td>\n",
       "      <td>7.0</td>\n",
       "    </tr>\n",
       "    <tr>\n",
       "      <th>pct_tl_nvr_dlq</th>\n",
       "      <td>884876.0</td>\n",
       "      <td>93.895</td>\n",
       "      <td>9.028</td>\n",
       "      <td>0.0</td>\n",
       "      <td>90.9</td>\n",
       "      <td>97.5</td>\n",
       "      <td>100.00</td>\n",
       "      <td>100.0</td>\n",
       "    </tr>\n",
       "    <tr>\n",
       "      <th>percent_bc_gt_75</th>\n",
       "      <td>875196.0</td>\n",
       "      <td>46.447</td>\n",
       "      <td>36.001</td>\n",
       "      <td>0.0</td>\n",
       "      <td>14.3</td>\n",
       "      <td>50.0</td>\n",
       "      <td>75.00</td>\n",
       "      <td>100.0</td>\n",
       "    </tr>\n",
       "    <tr>\n",
       "      <th>tot_hi_cred_lim</th>\n",
       "      <td>884876.0</td>\n",
       "      <td>174945.029</td>\n",
       "      <td>176913.616</td>\n",
       "      <td>0.0</td>\n",
       "      <td>50427.0</td>\n",
       "      <td>112845.5</td>\n",
       "      <td>252778.25</td>\n",
       "      <td>9999999.0</td>\n",
       "    </tr>\n",
       "    <tr>\n",
       "      <th>total_bal_ex_mort</th>\n",
       "      <td>884876.0</td>\n",
       "      <td>51250.132</td>\n",
       "      <td>48948.203</td>\n",
       "      <td>0.0</td>\n",
       "      <td>21719.0</td>\n",
       "      <td>38505.5</td>\n",
       "      <td>64469.00</td>\n",
       "      <td>3408095.0</td>\n",
       "    </tr>\n",
       "    <tr>\n",
       "      <th>total_bc_limit</th>\n",
       "      <td>884876.0</td>\n",
       "      <td>21863.623</td>\n",
       "      <td>21866.205</td>\n",
       "      <td>0.0</td>\n",
       "      <td>7700.0</td>\n",
       "      <td>15200.0</td>\n",
       "      <td>28500.00</td>\n",
       "      <td>1090700.0</td>\n",
       "    </tr>\n",
       "  </tbody>\n",
       "</table>\n",
       "</div>"
      ],
      "text/plain": [
       "                          count        mean         std    min      25%  \\\n",
       "annual_inc             884876.0   77102.415  135491.609    0.0  46000.0   \n",
       "fico_range_low         884876.0     694.699      30.936  660.0    670.0   \n",
       "fico_range_high        884876.0     698.699      30.937  664.0    674.0   \n",
       "pub_rec                884876.0       0.226       0.623    0.0      0.0   \n",
       "total_acc              884876.0      25.112      12.022    2.0     16.0   \n",
       "last_fico_range_high   884876.0     686.138      70.031    0.0    659.0   \n",
       "last_fico_range_low    884876.0     675.260     104.092    0.0    655.0   \n",
       "acc_now_delinq         884876.0       0.006       0.083    0.0      0.0   \n",
       "tot_coll_amt           884876.0     253.656    9942.521    0.0      0.0   \n",
       "tot_cur_bal            884876.0  141334.587  156637.669    0.0  30180.0   \n",
       "avg_cur_bal            884863.0   13354.806   15985.456    0.0   3148.0   \n",
       "bc_open_to_buy         875589.0    9947.906   15123.770    0.0   1394.0   \n",
       "bc_util                875052.0      61.236      27.760    0.0     40.2   \n",
       "delinq_amnt            884876.0      13.943     790.341    0.0      0.0   \n",
       "mo_sin_old_il_acct     859262.0     127.253      52.471    0.0    100.0   \n",
       "mo_sin_rcnt_rev_tl_op  884876.0      13.541      17.013    0.0      4.0   \n",
       "mort_acc               884876.0       1.654       1.983    0.0      0.0   \n",
       "num_bc_sats            884876.0       4.752       2.979    0.0      3.0   \n",
       "num_tl_120dpd_2m       847073.0       0.001       0.032    0.0      0.0   \n",
       "pct_tl_nvr_dlq         884876.0      93.895       9.028    0.0     90.9   \n",
       "percent_bc_gt_75       875196.0      46.447      36.001    0.0     14.3   \n",
       "tot_hi_cred_lim        884876.0  174945.029  176913.616    0.0  50427.0   \n",
       "total_bal_ex_mort      884876.0   51250.132   48948.203    0.0  21719.0   \n",
       "total_bc_limit         884876.0   21863.623   21866.205    0.0   7700.0   \n",
       "\n",
       "                            50%        75%          max  \n",
       "annual_inc              65000.0   92000.00  110000000.0  \n",
       "fico_range_low            685.0     710.00        845.0  \n",
       "fico_range_high           689.0     714.00        850.0  \n",
       "pub_rec                     0.0       0.00         86.0  \n",
       "total_acc                  23.0      32.00        169.0  \n",
       "last_fico_range_high      694.0     729.00        850.0  \n",
       "last_fico_range_low       690.0     725.00        845.0  \n",
       "acc_now_delinq              0.0       0.00         14.0  \n",
       "tot_coll_amt                0.0       0.00    9152545.0  \n",
       "tot_cur_bal             80608.5  210655.00    4447397.0  \n",
       "avg_cur_bal              7375.0   18484.00     555925.0  \n",
       "bc_open_to_buy           4514.0   12032.00     559912.0  \n",
       "bc_util                    64.6      85.70        318.2  \n",
       "delinq_amnt                 0.0       0.00     249925.0  \n",
       "mo_sin_old_il_acct        130.0     154.00        999.0  \n",
       "mo_sin_rcnt_rev_tl_op       8.0      16.00        372.0  \n",
       "mort_acc                    1.0       3.00         94.0  \n",
       "num_bc_sats                 4.0       6.00         63.0  \n",
       "num_tl_120dpd_2m            0.0       0.00          7.0  \n",
       "pct_tl_nvr_dlq             97.5     100.00        100.0  \n",
       "percent_bc_gt_75           50.0      75.00        100.0  \n",
       "tot_hi_cred_lim        112845.5  252778.25    9999999.0  \n",
       "total_bal_ex_mort       38505.5   64469.00    3408095.0  \n",
       "total_bc_limit          15200.0   28500.00    1090700.0  "
      ]
     },
     "execution_count": 14,
     "metadata": {},
     "output_type": "execute_result"
    }
   ],
   "source": [
    "round(df.describe(),3).T"
   ]
  },
  {
   "cell_type": "markdown",
   "metadata": {},
   "source": [
    "### Transformation of target variable"
   ]
  },
  {
   "cell_type": "markdown",
   "metadata": {},
   "source": [
    "The target variable in this case is the status of the loan, if it is paid or not. \n",
    "\n",
    "This target is composed of 7 different values:\n",
    "\n",
    "+ Fully Paid: the loan is already paid.\n",
    "+ Charged off: the loan is expected not to be paid. \n",
    "+ In grace period: a set length of time after the due date during which payment may be made without penalty. \n",
    "+ Late (16-30 days): the loan is out of time 16 to 30 days.\n",
    "+ Late (31-120 days): delay from 1 to 4 months in the loan payment. \n",
    "+ Current: currently on the loan payment plan. \n",
    "+ Default: failure to meet the legal conditions of the loan.\n"
   ]
  },
  {
   "cell_type": "markdown",
   "metadata": {},
   "source": [
    "We will check the loan status for different borrowers in order to see its distribution."
   ]
  },
  {
   "cell_type": "code",
   "execution_count": 15,
   "metadata": {},
   "outputs": [
    {
     "data": {
      "image/png": "[encoded data removed]",
      "text/plain": [
       "<Figure size 864x576 with 1 Axes>"
      ]
     },
     "metadata": {
      "needs_background": "light"
     },
     "output_type": "display_data"
    }
   ],
   "source": [
    "plt.figure(figsize = (12, 8))\n",
    "\n",
    "sns.countplot(x = 'loan_status', data = df, palette = 'Blues_r')\n",
    "plt.xlabel('Loan Status', size = 13)\n",
    "plt.title('Loan Status', size = 16)\n",
    "plt.grid(ls = '-.')\n",
    "plt.xticks(rotation = 45);"
   ]
  },
  {
   "cell_type": "markdown",
   "metadata": {},
   "source": [
    "We see that the most numerous group is the `current` status. We are loosing almost half of the observations because we cannot consider that `current` status of the loan to predict loan unpayment."
   ]
  },
  {
   "cell_type": "markdown",
   "metadata": {},
   "source": [
    "We will transform this variable into a categoric one which will take the values:\n",
    "\n",
    "+ 0: if the loan is not paid, or if it has a delay in the payment. \n",
    "+ 1: if the loan has been paid on time. \n",
    "+ 2: if the loan is currently in term. "
   ]
  },
  {
   "cell_type": "markdown",
   "metadata": {},
   "source": [
    "In order to achieve a more efficient code, we previously define the transformation function of the target variable and then we apply it to the DataFrame we are considering. "
   ]
  },
  {
   "cell_type": "code",
   "execution_count": 16,
   "metadata": {},
   "outputs": [],
   "source": [
    "def target(x):\n",
    "    if x == 'Fully Paid':\n",
    "        return 1\n",
    "    elif x == 'Charged Off':\n",
    "        return 0\n",
    "    elif x == 'In Grace Period':\n",
    "        return 0\n",
    "    elif x == 'Late (31-120 days)':\n",
    "        return 0\n",
    "    elif x == 'Late (16-30 days)':\n",
    "        return 0\n",
    "    elif x == 'Current':\n",
    "        return 2\n",
    "    elif x == 'Default':\n",
    "        return 0"
   ]
  },
  {
   "cell_type": "code",
   "execution_count": 17,
   "metadata": {},
   "outputs": [
    {
     "data": {
      "text/plain": [
       "array([2, 1, 0])"
      ]
     },
     "execution_count": 17,
     "metadata": {},
     "output_type": "execute_result"
    }
   ],
   "source": [
    "df['loan_status'] = df.loan_status.map(target)\n",
    "df.loan_status.unique()"
   ]
  },
  {
   "cell_type": "markdown",
   "metadata": {},
   "source": [
    "To predict the probability of payment failure of the loan, we will not consider currently on term loan status, because we can't know if they are going to pay or not in the future. For this reason, we will only keep up non-paid loans (0) and paid loans (1) for the next steps in the study and prediction. This will be implemented applying a filter fot those values."
   ]
  },
  {
   "cell_type": "code",
   "execution_count": 18,
   "metadata": {},
   "outputs": [
    {
     "data": {
      "text/plain": [
       "array([1, 0])"
      ]
     },
     "execution_count": 18,
     "metadata": {},
     "output_type": "execute_result"
    }
   ],
   "source": [
    "df_impago = df[(df.loan_status == 1) | (df.loan_status == 0)]\n",
    "df_impago.loan_status.unique()"
   ]
  },
  {
   "cell_type": "code",
   "execution_count": 19,
   "metadata": {},
   "outputs": [
    {
     "name": "stdout",
     "output_type": "stream",
     "text": [
      "             Observations Number\n",
      "Loan Status                     \n",
      "Paid                      345520\n",
      "Unpaid                    116671\n"
     ]
    },
    {
     "data": {
      "image/png": "[encoded data removed]",
      "text/plain": [
       "<Figure size 864x576 with 1 Axes>"
      ]
     },
     "metadata": {
      "needs_background": "light"
     },
     "output_type": "display_data"
    }
   ],
   "source": [
    "cuentas = pd.DataFrame({'Observations Number' : df_impago['loan_status'].value_counts(),\n",
    "                        'Loan Status': ['Paid', 'Unpaid']})\n",
    "\n",
    "print(cuentas.pivot_table('Observations Number', 'Loan Status'))\n",
    "\n",
    "plt.figure(figsize = (12, 8))\n",
    "\n",
    "sns.barplot(x = cuentas['Loan Status'], \n",
    "            y = cuentas['Observations Number'], \n",
    "            order = cuentas['Loan Status'],\n",
    "            palette = 'Greens_r')\n",
    "\n",
    "plt.xticks(rotation = 35);"
   ]
  },
  {
   "cell_type": "markdown",
   "metadata": {},
   "source": [
    "If we calculate the paid and unpaid loans ratios, we get that the $75 \\% $ of the data correspond to paid loans, and the other $25 \\% $ are related to unpaid loans. \n",
    "\n",
    "We don't consider that 75 - 25 sampling rates are worrying, so, due to this, we are not going to implement a rebalance on our data. If we had $ 90 \\% - 10 \\% $ samples or even worse, then it would be necessary to rebalance data. \n",
    "\n",
    "Furthermore, we asked Gabriel (ETL teacher), and he told us not to worry about our ratios, so that is what we will do."
   ]
  },
  {
   "cell_type": "markdown",
   "metadata": {},
   "source": [
    "### Behaviour of other variables"
   ]
  },
  {
   "cell_type": "markdown",
   "metadata": {},
   "source": [
    "Some of this non-numerical variables will be treated in the `categorical variables` sections. However, we want to check the behaviour they have against target variable before treating and cleaning them."
   ]
  },
  {
   "cell_type": "markdown",
   "metadata": {},
   "source": [
    "__Verification Status and Home Ownership__"
   ]
  },
  {
   "cell_type": "code",
   "execution_count": 20,
   "metadata": {},
   "outputs": [
    {
     "data": {
      "image/png": "[encoded data removed]",
      "text/plain": [
       "<Figure size 864x1440 with 2 Axes>"
      ]
     },
     "metadata": {
      "needs_background": "light"
     },
     "output_type": "display_data"
    }
   ],
   "source": [
    "plt.figure(figsize=(12, 20))\n",
    "\n",
    "plt.subplot(2, 2, 1)\n",
    "\n",
    "sns.countplot(x = 'verification_status',\n",
    "              data = df_impago, hue = df_impago.loan_status,\n",
    "              palette = 'summer')\n",
    "plt.legend(['Not Paid', 'Fully Paid'])\n",
    "plt.title('Verification Status vs. loan status', size = 15)\n",
    "plt.xticks(rotation = 40)\n",
    "plt.xlabel('Verification Status', size = 12);\n",
    "\n",
    "plt.subplot(2, 2, 2)\n",
    "\n",
    "sns.countplot(x = df_impago.home_ownership, data = df_impago, hue = df_impago.loan_status)\n",
    "plt.legend(['Not Paid', 'Fully Paid'])\n",
    "plt.title('Home Ownership vs. loan status', size = 15)\n",
    "plt.xticks(rotation = 40)\n",
    "plt.xlabel('Home Ownership', size = 12);"
   ]
  },
  {
   "cell_type": "markdown",
   "metadata": {},
   "source": [
    "We note that the highest number of loans are given to people who are home-mortgaged. This could be due to those people have asked for the loan in order to pay this mortgages.\n",
    "\n",
    "It is important to see that there are not loans given matched to \"any\" home ownership option. This is, somehow, logical."
   ]
  },
  {
   "cell_type": "markdown",
   "metadata": {},
   "source": [
    "__Employment length__"
   ]
  },
  {
   "cell_type": "code",
   "execution_count": 21,
   "metadata": {},
   "outputs": [
    {
     "data": {
      "image/png": "[encoded data removed]",
      "text/plain": [
       "<Figure size 1008x576 with 1 Axes>"
      ]
     },
     "metadata": {
      "needs_background": "light"
     },
     "output_type": "display_data"
    }
   ],
   "source": [
    "plt.figure(figsize = (14, 8))\n",
    "\n",
    "order = ['< 1 year', '1 year', '2 years', '3 years', '4 years', '5 years', \n",
    "          '6 years', '7 years', '8 years', '9 years', '10+ years',]\n",
    "\n",
    "sns.countplot(x = df_impago.emp_length, \n",
    "              data = df_impago, \n",
    "              hue = df_impago.loan_status, \n",
    "              order = order, \n",
    "              palette = 'mako')\n",
    "\n",
    "plt.legend(['Not Paid', 'Fully Paid'], fontsize = 14)\n",
    "plt.grid(ls = '-.')\n",
    "plt.xlabel('Employment length', size = 12)\n",
    "plt.title('Employment length vs. loan status', size = 16)\n",
    "plt.xticks(rotation = 40);"
   ]
  },
  {
   "cell_type": "markdown",
   "metadata": {},
   "source": [
    "We see that the most unpaid loans are those which were given to people who had been working for more than 10 years. But, on the other hand, this is not really worrying, because if we calculate the ratio of the number of unpaid loans and the number of paid ones, we will check that it is 0.33, quite similar to the ratios of the other values of the lenght employnment type.\n",
    "\n",
    "It is also logical to see that after 1, 2 or 3 years working, people start to ask for credits and loans, because they want to buy  car, start a home-mortgage, etc. That's the reason why they appear to be over the mean. \n",
    "\n",
    "We will transform this variable into a dicotomic one, and we will consider it as a categorical observation."
   ]
  },
  {
   "cell_type": "markdown",
   "metadata": {},
   "source": [
    "__Loan Purposes__"
   ]
  },
  {
   "cell_type": "code",
   "execution_count": 22,
   "metadata": {},
   "outputs": [
    {
     "data": {
      "image/png": "[encoded data removed]",
      "text/plain": [
       "<Figure size 1008x576 with 1 Axes>"
      ]
     },
     "metadata": {
      "needs_background": "light"
     },
     "output_type": "display_data"
    }
   ],
   "source": [
    "plt.figure(figsize=(14, 8))\n",
    "\n",
    "sns.countplot(x = df_impago.purpose, data = df_impago, hue = df_impago.loan_status, palette = 'Greens')\n",
    "plt.legend(['Not Paid', 'Fully Paid'], loc = 'upper right')\n",
    "plt.grid(ls = '-.')\n",
    "plt.title('Loan Purpose vs. Loan status', size = 16)\n",
    "plt.xlabel('Loan Purpose', size = 12)\n",
    "plt.xticks(rotation = 50);"
   ]
  },
  {
   "cell_type": "markdown",
   "metadata": {},
   "source": [
    "We see that most of the loans are given to debt consolidation and credit card purposes. Both of them have nearly a 25% of probability of commiting default. This ratio is more or less the same for almost every purpose."
   ]
  },
  {
   "cell_type": "markdown",
   "metadata": {},
   "source": [
    "We saw something curious in small_business purpose values. Let's zoom to see it clearly:"
   ]
  },
  {
   "cell_type": "code",
   "execution_count": 23,
   "metadata": {},
   "outputs": [
    {
     "data": {
      "image/png": "[encoded data removed]",
      "text/plain": [
       "<Figure size 576x432 with 1 Axes>"
      ]
     },
     "metadata": {
      "needs_background": "light"
     },
     "output_type": "display_data"
    }
   ],
   "source": [
    "small_busi = df_impago[df_impago.purpose == 'small_business']\n",
    "\n",
    "plt.figure(figsize=(8, 6))\n",
    "\n",
    "sns.countplot(x = small_busi.purpose,\n",
    "              data = small_busi, \n",
    "              hue = small_busi.loan_status,\n",
    "              palette = 'Greens')\n",
    "                            \n",
    "plt.legend(['Not Paid', 'Fully Paid'], loc = 'upper right')\n",
    "plt.grid(ls = '-.')\n",
    "plt.xlabel('Loan Purpose')\n",
    "plt.xticks(rotation = 20);"
   ]
  },
  {
   "cell_type": "markdown",
   "metadata": {},
   "source": [
    "Let's zoom on the _wedding, renewable energy and educational_ purposes to see how they behave against loan payment status.\n",
    "\n",
    "The `small_business` purpose for the loan is a value with a high ratio of number of unpaid/paid. This would have to be taken in count in order to achieve better predictive model results. We mean, if a borrower asks for a loan to use it for a small business we should be carefull analyzing both business and personal characteristics."
   ]
  },
  {
   "cell_type": "code",
   "execution_count": 24,
   "metadata": {},
   "outputs": [
    {
     "data": {
      "image/png": "[encoded data removed]",
      "text/plain": [
       "<Figure size 576x432 with 1 Axes>"
      ]
     },
     "metadata": {
      "needs_background": "light"
     },
     "output_type": "display_data"
    }
   ],
   "source": [
    "wed_renew_educ_purpose = df_impago[(df_impago.purpose == 'wedding')|(df_impago.purpose == 'renewable_energy')|(df_impago.purpose == 'educational')]\n",
    "\n",
    "wed_renew_educ_purpose\n",
    "\n",
    "plt.figure(figsize=(8, 6))\n",
    "\n",
    "sns.countplot(x = wed_renew_educ_purpose.purpose,\n",
    "              data = wed_renew_educ_purpose, \n",
    "              hue = wed_renew_educ_purpose.loan_status,\n",
    "              palette = 'Greens')\n",
    "                            \n",
    "plt.legend(['Not Paid', 'Fully Paid'], loc = 'upper right')\n",
    "plt.grid(ls = '-.')\n",
    "plt.xlabel('Loan Purpose')\n",
    "plt.xticks(rotation = 20);"
   ]
  },
  {
   "cell_type": "markdown",
   "metadata": {},
   "source": [
    "This  becomes even more noticeable when we check out `renewable_energy` purpose: the ratio of unpaid vs. paid loan status is nearly 50%. \n",
    "\n",
    "But the most unbalanced purposes are those which refer to `wedding` and `educational`. Both of them have a 100% ratio of unpayment loan status. \n",
    "\n",
    "It is true that, in comparision to other purposes, there are only few (less than 200) renewable energy, wedding and educational loan borrowers, so it appears not to be so worrying as we originally thinked. For a dataset of 400k observations (after treating and cleaning the initial 800K entries) this shouldn't even be taken into consideration. However, our mission is to portray this lending-data behaviour, so that is why we show it up."
   ]
  },
  {
   "cell_type": "markdown",
   "metadata": {},
   "source": [
    "__FICO scores__"
   ]
  },
  {
   "cell_type": "markdown",
   "metadata": {},
   "source": [
    "The FICO score is a credit score created to use the details of borrowers' credit reports to assess credit risk and determine whether to extend credit. This FICO scores take into account five areas to determine creditworthiness: payment history, current level of indebtedness, types of credit used, length of credit history, and new credit accounts.\n",
    "\n",
    "We have the lower and higher FICO rate of each borrower. We want to represent it in order to see if the FICO rate affects to the loan payment. "
   ]
  },
  {
   "cell_type": "code",
   "execution_count": 25,
   "metadata": {},
   "outputs": [
    {
     "data": {
      "image/png": "[encoded data removed]",
      "text/plain": [
       "<Figure size 864x576 with 1 Axes>"
      ]
     },
     "metadata": {
      "needs_background": "light"
     },
     "output_type": "display_data"
    }
   ],
   "source": [
    "plt.figure(figsize=(12, 8))\n",
    "\n",
    "df_impago[df_impago.loan_status == 1]['fico_range_low'].hist(alpha = 0.6, \n",
    "                                                             color = 'yellow')\n",
    "df_impago[df_impago.loan_status == 0]['fico_range_low'].hist(alpha = 0.8, \n",
    "                                                             color = 'deepskyblue')\n",
    "plt.xlabel('Lower FICO rate', \n",
    "           size = 12)\n",
    "plt.ylabel('Count', \n",
    "           size = 12)\n",
    "plt.grid(ls = '-.')\n",
    "plt.title('Lower FICO rate vs. loan status', \n",
    "          size = 16);"
   ]
  },
  {
   "cell_type": "markdown",
   "metadata": {},
   "source": [
    "We see that the the lower the FICO rate is, the higher unpayment risk we get. This is what we expected from the beggining."
   ]
  },
  {
   "cell_type": "markdown",
   "metadata": {},
   "source": [
    "### Division into numeric and categoric variables"
   ]
  },
  {
   "cell_type": "markdown",
   "metadata": {},
   "source": [
    "We will treat separately both numeric and categoric/non numeric variables in order to scale those which are numeric, fix problems from both and then concatening them into a one DataFrame. "
   ]
  },
  {
   "cell_type": "markdown",
   "metadata": {},
   "source": [
    "#### a) Numeric ones"
   ]
  },
  {
   "cell_type": "code",
   "execution_count": 26,
   "metadata": {},
   "outputs": [],
   "source": [
    "df_n = df_impago.drop(['addr_state',\n",
    "                       'application_type',\n",
    "                       'disbursement_method',\n",
    "                       'emp_length',\n",
    "                       'loan_status',\n",
    "                       'emp_title',\n",
    "                       'grade',\n",
    "                       'hardship_flag',\n",
    "                       'home_ownership',\n",
    "                       'initial_list_status',\n",
    "                       'purpose',\n",
    "                       'pymnt_plan',\n",
    "                       'title',\n",
    "                       'verification_status',\n",
    "                       'sub_grade',\n",
    "                       'zip_code'], axis = 1)"
   ]
  },
  {
   "cell_type": "code",
   "execution_count": 27,
   "metadata": {},
   "outputs": [
    {
     "data": {
      "text/plain": [
       "(462191, 25)"
      ]
     },
     "execution_count": 27,
     "metadata": {},
     "output_type": "execute_result"
    }
   ],
   "source": [
    "df_n.shape"
   ]
  },
  {
   "cell_type": "markdown",
   "metadata": {},
   "source": [
    "We see that we have 25 variables which are numeric. \n",
    "\n",
    "Furthermore, we are interested in discovering the class of each numeric variable (if it is objetc, float, integer, etc). We can implement it easily by:"
   ]
  },
  {
   "cell_type": "code",
   "execution_count": 28,
   "metadata": {},
   "outputs": [
    {
     "name": "stdout",
     "output_type": "stream",
     "text": [
      "int_rate --> 200 , data type: object\n",
      "annual_inc --> 29484 , data type: float64\n",
      "fico_range_low --> 38 , data type: float64\n",
      "fico_range_high --> 38 , data type: float64\n",
      "pub_rec --> 27 , data type: float64\n",
      "total_acc --> 127 , data type: float64\n",
      "last_fico_range_high --> 72 , data type: float64\n",
      "last_fico_range_low --> 71 , data type: float64\n",
      "acc_now_delinq --> 7 , data type: float64\n",
      "tot_coll_amt --> 8479 , data type: float64\n",
      "tot_cur_bal --> 242649 , data type: float64\n",
      "avg_cur_bal --> 58056 , data type: float64\n",
      "bc_open_to_buy --> 51462 , data type: float64\n",
      "bc_util --> 1328 , data type: float64\n",
      "delinq_amnt --> 953 , data type: float64\n",
      "mo_sin_old_il_acct --> 478 , data type: float64\n",
      "mo_sin_rcnt_rev_tl_op --> 228 , data type: float64\n",
      "mort_acc --> 35 , data type: float64\n",
      "num_bc_sats --> 46 , data type: float64\n",
      "num_tl_120dpd_2m --> 5 , data type: float64\n",
      "pct_tl_nvr_dlq --> 544 , data type: float64\n",
      "percent_bc_gt_75 --> 196 , data type: float64\n",
      "tot_hi_cred_lim --> 250593 , data type: float64\n",
      "total_bal_ex_mort --> 128944 , data type: float64\n",
      "total_bc_limit --> 4634 , data type: float64\n"
     ]
    }
   ],
   "source": [
    "for variable in list(df_n.columns):\n",
    "    print(variable + ' --> ' + str(df_n[variable].nunique()) + ' , data type: '  + str(df_n[variable].dtype))"
   ]
  },
  {
   "cell_type": "markdown",
   "metadata": {},
   "source": [
    "Every numeric variable is coded as float64 except interest rate, which is expressed in a percentage. In order to have them in the same form and type as the others, we will transform it by deleting the % symbol and codifying it as a float variable. "
   ]
  },
  {
   "cell_type": "code",
   "execution_count": 29,
   "metadata": {},
   "outputs": [
    {
     "data": {
      "text/plain": [
       "8      7.35\n",
       "10    24.85\n",
       "24     7.35\n",
       "42    16.02\n",
       "91    16.02\n",
       "Name: int_rate, dtype: float64"
      ]
     },
     "execution_count": 29,
     "metadata": {},
     "output_type": "execute_result"
    }
   ],
   "source": [
    "df_n['int_rate'] = df_n.int_rate.str.strip('%').astype(float)\n",
    "\n",
    "# Check it is correct: \n",
    "\n",
    "df_n.int_rate.head(5)"
   ]
  },
  {
   "cell_type": "markdown",
   "metadata": {},
   "source": [
    "If we represent it to see how it behaves against loan status:"
   ]
  },
  {
   "cell_type": "code",
   "execution_count": 30,
   "metadata": {},
   "outputs": [
    {
     "data": {
      "image/png": "[encoded data removed]",
      "text/plain": [
       "<Figure size 864x720 with 1 Axes>"
      ]
     },
     "metadata": {
      "needs_background": "light"
     },
     "output_type": "display_data"
    }
   ],
   "source": [
    "plt.figure(figsize=(12, 10))\n",
    "\n",
    "df_n[df_impago.loan_status == 1]['int_rate'].hist(label = 'Fully Paid', alpha = 0.3, color = 'dodgerblue')\n",
    "df_n[df_impago.loan_status == 0]['int_rate'].hist(label = 'Unpaid', alpha = 1, color = 'yellow')\n",
    "plt.legend(fontsize = 12)\n",
    "plt.title('Interest rate vs. loan status', size = 16)\n",
    "plt.xlabel('Interest rate (in %)', size = 14)\n",
    "plt.ylabel('Count', size = 12)\n",
    "plt.xticks(rotation = 45, size = 13);"
   ]
  },
  {
   "cell_type": "markdown",
   "metadata": {},
   "source": [
    "We check that the most unpaid loans occur when the interest rate is over $20 \\%$. This might be a strategy from the credit/loan lender company: the higher probability of dfault you appear to have, the higher interest rates you get. "
   ]
  },
  {
   "cell_type": "markdown",
   "metadata": {},
   "source": [
    "Once we have transformed all the numeric variables into float64 and int values, we want to check how the correlation matrix form is."
   ]
  },
  {
   "cell_type": "code",
   "execution_count": 31,
   "metadata": {},
   "outputs": [
    {
     "data": {
      "image/png": "[encoded data removed]",
      "text/plain": [
       "<Figure size 1440x1728 with 2 Axes>"
      ]
     },
     "metadata": {},
     "output_type": "display_data"
    }
   ],
   "source": [
    "correlation_matrix = df_n.corr()\n",
    "\n",
    "mask = np.zeros_like(correlation_matrix, \n",
    "                     dtype = np.bool) #drop off upper part of cor matrix.\n",
    "\n",
    "mask[np.triu_indices_from(mask)] = True\n",
    "\n",
    "sns.set_style(style = 'ticks') \n",
    "\n",
    "\n",
    "f, ax = plt.subplots(figsize=(20, 24)) #dibujamos el lienzo \n",
    "\n",
    "# cmap = sns.diverging_palette(250, 700, as_cmap=True) #gama de colores que elegimos \n",
    "\n",
    "sns.heatmap(correlation_matrix, \n",
    "            mask = mask,\n",
    "            cmap = 'BuPu', \n",
    "            square = True,\n",
    "            linewidths=.1, \n",
    "            cbar_kws = {\"shrink\": .4}, \n",
    "            ax=ax)   #es un grafico de mapa de calor\n",
    "\n",
    "plt.xticks(rotation = 90)\n",
    "plt.title('Correlation Matrix for numeric variables', \n",
    "          size = 20);"
   ]
  },
  {
   "cell_type": "markdown",
   "metadata": {},
   "source": [
    "The correlation between numeric variables are not high except in some variables, like FICO representing values, which are really related to each other (which is normal). Anyway, those variables are really important when considering to give or not to give a loan to a person, so we would not delete them."
   ]
  },
  {
   "cell_type": "markdown",
   "metadata": {},
   "source": [
    "Let's see what happens with the categorical columns."
   ]
  },
  {
   "cell_type": "markdown",
   "metadata": {},
   "source": [
    "#### b) Categorical variables:"
   ]
  },
  {
   "cell_type": "markdown",
   "metadata": {},
   "source": [
    "Knowing the data we are taking in consideration permit us to discern whether a variable is categoric or not. In our study, we find out these variables as categorical: "
   ]
  },
  {
   "cell_type": "code",
   "execution_count": 32,
   "metadata": {},
   "outputs": [],
   "source": [
    "df_c = df_impago.loc[:,['addr_state',\n",
    "                        'application_type',\n",
    "                        'disbursement_method',\n",
    "                        'emp_length',\n",
    "                        'emp_title',\n",
    "                        'grade',\n",
    "                        'hardship_flag',\n",
    "                        'home_ownership',\n",
    "                        'initial_list_status',\n",
    "                        'loan_status',\n",
    "                        'purpose',\n",
    "                        'pymnt_plan',\n",
    "                        'title',\n",
    "                        'verification_status',\n",
    "                        'sub_grade',\n",
    "                        'zip_code']]\n",
    "# disbursement_method, earliest_cr_line, hardship_flag, initial_list_status, issue_d, last_credit_pull_d, \n",
    "# last_pymnt_d, policy_code, title, sub_grade, id, zip_code"
   ]
  },
  {
   "cell_type": "markdown",
   "metadata": {},
   "source": [
    "Anyway, applying _business knowledge_ once again, we decided to drop some of those variables because we considered them as unusefull for our case. "
   ]
  },
  {
   "cell_type": "code",
   "execution_count": 33,
   "metadata": {},
   "outputs": [],
   "source": [
    "# Nos quedamos solo con las categoricas que vamos a incluir en los modelos\n",
    "df_c.drop(['addr_state',\n",
    "           'disbursement_method',\n",
    "           'initial_list_status',\n",
    "           'title',\n",
    "           'sub_grade',\n",
    "           'emp_title',\n",
    "           'zip_code'], \n",
    "            axis = 'columns', \n",
    "            inplace = True)"
   ]
  },
  {
   "cell_type": "code",
   "execution_count": 34,
   "metadata": {},
   "outputs": [
    {
     "data": {
      "text/html": [
       "<div>\n",
       "<style scoped>\n",
       "    .dataframe tbody tr th:only-of-type {\n",
       "        vertical-align: middle;\n",
       "    }\n",
       "\n",
       "    .dataframe tbody tr th {\n",
       "        vertical-align: top;\n",
       "    }\n",
       "\n",
       "    .dataframe thead th {\n",
       "        text-align: right;\n",
       "    }\n",
       "</style>\n",
       "<table border=\"1\" class=\"dataframe\">\n",
       "  <thead>\n",
       "    <tr style=\"text-align: right;\">\n",
       "      <th></th>\n",
       "      <th>application_type</th>\n",
       "      <th>emp_length</th>\n",
       "      <th>grade</th>\n",
       "      <th>hardship_flag</th>\n",
       "      <th>home_ownership</th>\n",
       "      <th>loan_status</th>\n",
       "      <th>purpose</th>\n",
       "      <th>pymnt_plan</th>\n",
       "      <th>verification_status</th>\n",
       "    </tr>\n",
       "  </thead>\n",
       "  <tbody>\n",
       "    <tr>\n",
       "      <th>8</th>\n",
       "      <td>Individual</td>\n",
       "      <td>6 years</td>\n",
       "      <td>A</td>\n",
       "      <td>N</td>\n",
       "      <td>OWN</td>\n",
       "      <td>1</td>\n",
       "      <td>credit_card</td>\n",
       "      <td>n</td>\n",
       "      <td>Not Verified</td>\n",
       "    </tr>\n",
       "    <tr>\n",
       "      <th>10</th>\n",
       "      <td>Individual</td>\n",
       "      <td>2 years</td>\n",
       "      <td>E</td>\n",
       "      <td>N</td>\n",
       "      <td>RENT</td>\n",
       "      <td>1</td>\n",
       "      <td>debt_consolidation</td>\n",
       "      <td>n</td>\n",
       "      <td>Source Verified</td>\n",
       "    </tr>\n",
       "    <tr>\n",
       "      <th>24</th>\n",
       "      <td>Individual</td>\n",
       "      <td>7 years</td>\n",
       "      <td>A</td>\n",
       "      <td>N</td>\n",
       "      <td>MORTGAGE</td>\n",
       "      <td>1</td>\n",
       "      <td>debt_consolidation</td>\n",
       "      <td>n</td>\n",
       "      <td>Not Verified</td>\n",
       "    </tr>\n",
       "    <tr>\n",
       "      <th>42</th>\n",
       "      <td>Individual</td>\n",
       "      <td>7 years</td>\n",
       "      <td>C</td>\n",
       "      <td>N</td>\n",
       "      <td>RENT</td>\n",
       "      <td>1</td>\n",
       "      <td>debt_consolidation</td>\n",
       "      <td>n</td>\n",
       "      <td>Source Verified</td>\n",
       "    </tr>\n",
       "    <tr>\n",
       "      <th>91</th>\n",
       "      <td>Individual</td>\n",
       "      <td>7 years</td>\n",
       "      <td>C</td>\n",
       "      <td>N</td>\n",
       "      <td>MORTGAGE</td>\n",
       "      <td>1</td>\n",
       "      <td>debt_consolidation</td>\n",
       "      <td>n</td>\n",
       "      <td>Verified</td>\n",
       "    </tr>\n",
       "  </tbody>\n",
       "</table>\n",
       "</div>"
      ],
      "text/plain": [
       "   application_type emp_length grade hardship_flag home_ownership  \\\n",
       "8        Individual    6 years     A             N            OWN   \n",
       "10       Individual    2 years     E             N           RENT   \n",
       "24       Individual    7 years     A             N       MORTGAGE   \n",
       "42       Individual    7 years     C             N           RENT   \n",
       "91       Individual    7 years     C             N       MORTGAGE   \n",
       "\n",
       "    loan_status             purpose pymnt_plan verification_status  \n",
       "8             1         credit_card          n        Not Verified  \n",
       "10            1  debt_consolidation          n     Source Verified  \n",
       "24            1  debt_consolidation          n        Not Verified  \n",
       "42            1  debt_consolidation          n     Source Verified  \n",
       "91            1  debt_consolidation          n            Verified  "
      ]
     },
     "execution_count": 34,
     "metadata": {},
     "output_type": "execute_result"
    }
   ],
   "source": [
    "df_c.head(5)"
   ]
  },
  {
   "cell_type": "markdown",
   "metadata": {},
   "source": [
    "We cannot work with variables like this in our models. In order to be able to use them to study our predictive models, we will transform them into binary variables. \n",
    "\n",
    "This is a bit laborius, but it has to be done to continue with the models."
   ]
  },
  {
   "cell_type": "markdown",
   "metadata": {},
   "source": [
    "__Application type__"
   ]
  },
  {
   "cell_type": "code",
   "execution_count": 35,
   "metadata": {},
   "outputs": [
    {
     "data": {
      "image/png": "[encoded data removed]",
      "text/plain": [
       "<Figure size 864x720 with 1 Axes>"
      ]
     },
     "metadata": {},
     "output_type": "display_data"
    }
   ],
   "source": [
    "plt.figure(figsize = (12, 10))\n",
    "\n",
    "sns.countplot(x = 'application_type',\n",
    "              data = df_c,\n",
    "              hue = df_impago.loan_status, \n",
    "              palette = 'CMRmap_r')\n",
    "\n",
    "plt.xlabel('Application type', size = 12)\n",
    "plt.title('Application types vs. loan status', size = 16)\n",
    "plt.grid(ls = '-.')\n",
    "plt.xticks(rotation = 45, size = 12)\n",
    "plt.legend(['Not Paid', 'Fully Paid'], fontsize = 14);"
   ]
  },
  {
   "cell_type": "markdown",
   "metadata": {},
   "source": [
    "It is obvious that almost all the loans have been borrowed individually. Only a few are shared.\n",
    "\n",
    "We transform this variable into a categorical one by applying:"
   ]
  },
  {
   "cell_type": "code",
   "execution_count": 36,
   "metadata": {},
   "outputs": [],
   "source": [
    "df_c['application_type'] = df_c.application_type.map(lambda x: 0 if ( x == 'Individual')  else 1)"
   ]
  },
  {
   "cell_type": "markdown",
   "metadata": {},
   "source": [
    "__Employment length__"
   ]
  },
  {
   "cell_type": "markdown",
   "metadata": {},
   "source": [
    "First of all we will transform the employnment length into 3 stages. This is: \n",
    "\n",
    "+ `0`: if the person who is asking for the loan has been working from 1 to 4 years.\n",
    "+ `1`: if the person who asks for the loan has been working from 5 to 9 years.\n",
    "+ `2`: if the person has been working more than 10 years.\n",
    "\n",
    "The problem with this variable is that there are NaN values. We will consider them as if borrowers have not ever worked, so we will asign them as a 0."
   ]
  },
  {
   "cell_type": "code",
   "execution_count": 37,
   "metadata": {},
   "outputs": [],
   "source": [
    "def años(x):\n",
    "    if (x == '1 year') | (x == '2 years') | (x == '3 years') | (x == '4 years'):\n",
    "        return 0\n",
    "    elif (x == '5 year') | (x == '6 years') | (x == '7 years') | (x == '8 years') | (x == '9 years'):\n",
    "        return 1\n",
    "    elif x == '10+ years':\n",
    "        return 2\n",
    "#MARIO Y GON SOLO EN DOS "
   ]
  },
  {
   "cell_type": "code",
   "execution_count": 38,
   "metadata": {},
   "outputs": [],
   "source": [
    "df_c['emp_length'] = df_c.emp_length.map(años)\n",
    "\n",
    "df_c['emp_length'] = df_c.emp_length.fillna(0)"
   ]
  },
  {
   "cell_type": "code",
   "execution_count": 39,
   "metadata": {},
   "outputs": [
    {
     "data": {
      "text/plain": [
       "array([1., 0., 2.])"
      ]
     },
     "execution_count": 39,
     "metadata": {},
     "output_type": "execute_result"
    }
   ],
   "source": [
    "df_c.emp_length.unique()"
   ]
  },
  {
   "cell_type": "markdown",
   "metadata": {},
   "source": [
    "__Risk grade__"
   ]
  },
  {
   "cell_type": "code",
   "execution_count": 40,
   "metadata": {},
   "outputs": [
    {
     "data": {
      "image/png": "[encoded data removed]",
      "text/plain": [
       "<Figure size 864x720 with 1 Axes>"
      ]
     },
     "metadata": {},
     "output_type": "display_data"
    }
   ],
   "source": [
    "plt.figure(figsize = (12, 10))\n",
    "\n",
    "order = ['A', 'B', 'C', 'D', 'E', 'F', 'G']\n",
    "\n",
    "sns.countplot(x = 'grade',\n",
    "              data = df_c,\n",
    "              hue = df_impago.loan_status, \n",
    "              palette = 'PuBu',\n",
    "              order = order)\n",
    "\n",
    "plt.xlabel('Unpayment Grade Risk', size = 12)\n",
    "plt.title('Risk Grade vs. loan status', size = 16)\n",
    "plt.grid(ls = '-.')\n",
    "plt.legend(['Not Paid', 'Fully Paid'], fontsize = 14);"
   ]
  },
  {
   "cell_type": "markdown",
   "metadata": {},
   "source": [
    "We see that onwards `D` grade the risk of getting unpayment gets higher. For `F` and `G` grades is even more worrying because it becomes $ 50 \\% - 50 \\% $, and it has to be really taken in count in order to enhance our predictive models."
   ]
  },
  {
   "cell_type": "markdown",
   "metadata": {},
   "source": [
    "In this line, we will transform the grade of risk for the loan as binary. Then, we asign:\n",
    "\n",
    "+ `0`: if the risk is low, or, similarly, the person is not expected to commit fraud. \n",
    "+ `1`: if the risk is high, or there are risk for the loan to be unpaid."
   ]
  },
  {
   "cell_type": "code",
   "execution_count": 41,
   "metadata": {},
   "outputs": [],
   "source": [
    "def riesgo(x):\n",
    "    if (x == 'A') | (x == 'B') | (x == 'C'):\n",
    "        return 0\n",
    "    elif (x == 'D') | (x == 'E') | (x == 'F') | (x == 'G'):\n",
    "        return 1"
   ]
  },
  {
   "cell_type": "code",
   "execution_count": 42,
   "metadata": {},
   "outputs": [],
   "source": [
    "df_c['grade'] = df_c.grade.map(riesgo)"
   ]
  },
  {
   "cell_type": "code",
   "execution_count": 43,
   "metadata": {},
   "outputs": [
    {
     "data": {
      "text/plain": [
       "array([0, 1])"
      ]
     },
     "execution_count": 43,
     "metadata": {},
     "output_type": "execute_result"
    }
   ],
   "source": [
    "df_c.grade.unique()"
   ]
  },
  {
   "cell_type": "markdown",
   "metadata": {},
   "source": [
    "__Home ownership__"
   ]
  },
  {
   "cell_type": "markdown",
   "metadata": {},
   "source": [
    "Third, we study the home ownership of the loan borrowers. We will codify them as binary, setting the differences on:\n",
    "\n",
    "+ `0`: if the borrower has none own property (including a rent).\n",
    "+ `1`: if the borrower has a mortgage or has his own home.\n",
    "\n",
    "It has been already represented upper in this work, so we will not plot it again."
   ]
  },
  {
   "cell_type": "code",
   "execution_count": 44,
   "metadata": {},
   "outputs": [
    {
     "data": {
      "text/plain": [
       "array(['OWN', 'MORTGAGE', 'RENT', 'ANY', 'NONE'], dtype=object)"
      ]
     },
     "execution_count": 44,
     "metadata": {},
     "output_type": "execute_result"
    }
   ],
   "source": [
    "df_g.home_ownership.unique()"
   ]
  },
  {
   "cell_type": "code",
   "execution_count": 45,
   "metadata": {},
   "outputs": [],
   "source": [
    "def propiedad(x):\n",
    "    if (x == 'OWN') | (x == 'MORTGAGE'):\n",
    "        return 1\n",
    "    else:\n",
    "        return 0"
   ]
  },
  {
   "cell_type": "code",
   "execution_count": 46,
   "metadata": {},
   "outputs": [],
   "source": [
    "df_c['home_ownership'] = df_c.home_ownership.map(propiedad)"
   ]
  },
  {
   "cell_type": "code",
   "execution_count": 47,
   "metadata": {},
   "outputs": [
    {
     "data": {
      "text/plain": [
       "array([1, 0])"
      ]
     },
     "execution_count": 47,
     "metadata": {},
     "output_type": "execute_result"
    }
   ],
   "source": [
    "df_c.home_ownership.unique()"
   ]
  },
  {
   "cell_type": "markdown",
   "metadata": {},
   "source": [
    "__Loan Purposes__"
   ]
  },
  {
   "cell_type": "markdown",
   "metadata": {},
   "source": [
    "Other variable we consider as an important one is the purpose for which the borrower is asked to be given the loan. We will codify it as:\n",
    "\n",
    "+ `0`: if the borrower wants the credit for businesses, debt payments, medical purposes or major purchases.\n",
    "+ `1`: if it is for enhancing his/her life conditions.\n",
    "+ `2`: other purposes like vacation, wedding, education, etc."
   ]
  },
  {
   "cell_type": "code",
   "execution_count": 48,
   "metadata": {},
   "outputs": [
    {
     "data": {
      "text/plain": [
       "array(['credit_card', 'debt_consolidation', 'home_improvement', 'other',\n",
       "       'major_purchase', 'moving', 'medical', 'car', 'vacation',\n",
       "       'small_business', 'house', 'renewable_energy', 'wedding',\n",
       "       'educational'], dtype=object)"
      ]
     },
     "execution_count": 48,
     "metadata": {},
     "output_type": "execute_result"
    }
   ],
   "source": [
    "df_c.purpose.unique()"
   ]
  },
  {
   "cell_type": "code",
   "execution_count": 49,
   "metadata": {},
   "outputs": [],
   "source": [
    "def proposito(x):\n",
    "    if (x == 'small_business') | (x == 'debt_consolidation') | (x == 'major_purchase' ) | (x == 'medical'):\n",
    "        return 0\n",
    "    elif (x == 'credit_card') | (x == 'home_improvement') | (x == 'house') | (x == 'car'):\n",
    "        return 1\n",
    "    else:\n",
    "        return 2"
   ]
  },
  {
   "cell_type": "code",
   "execution_count": 50,
   "metadata": {},
   "outputs": [],
   "source": [
    "df_c['purpose'] = df_c.purpose.map(proposito)"
   ]
  },
  {
   "cell_type": "code",
   "execution_count": 51,
   "metadata": {},
   "outputs": [
    {
     "data": {
      "text/plain": [
       "array([1, 0, 2])"
      ]
     },
     "execution_count": 51,
     "metadata": {},
     "output_type": "execute_result"
    }
   ],
   "source": [
    "df_c.purpose.unique()"
   ]
  },
  {
   "cell_type": "markdown",
   "metadata": {},
   "source": [
    "We transform the payment plan into binary by considering whether the borrower has contracted a payment plan or not."
   ]
  },
  {
   "cell_type": "code",
   "execution_count": 52,
   "metadata": {},
   "outputs": [],
   "source": [
    "df_c['pymnt_plan'] = df_c.pymnt_plan.map(lambda x: 0 if (x == 'n') else 1)"
   ]
  },
  {
   "cell_type": "code",
   "execution_count": 53,
   "metadata": {},
   "outputs": [
    {
     "data": {
      "text/plain": [
       "array([0, 1])"
      ]
     },
     "execution_count": 53,
     "metadata": {},
     "output_type": "execute_result"
    }
   ],
   "source": [
    "df_c.pymnt_plan.unique()"
   ]
  },
  {
   "cell_type": "markdown",
   "metadata": {},
   "source": [
    "The verification status variable will be transformed into binary by allocating:\n",
    "\n",
    "+ `0`: if the incomes or rent of the borrower has not been verified.\n",
    "+ `1`: if they have been verified."
   ]
  },
  {
   "cell_type": "code",
   "execution_count": 54,
   "metadata": {},
   "outputs": [],
   "source": [
    "df_c['verification_status'] = df_c.verification_status.map(lambda x: 0 if (x == 'Not Verified') else 1)"
   ]
  },
  {
   "cell_type": "code",
   "execution_count": 55,
   "metadata": {},
   "outputs": [
    {
     "data": {
      "text/plain": [
       "array([0, 1])"
      ]
     },
     "execution_count": 55,
     "metadata": {},
     "output_type": "execute_result"
    }
   ],
   "source": [
    "df_c.verification_status.unique()"
   ]
  },
  {
   "cell_type": "markdown",
   "metadata": {},
   "source": [
    "__Hardship flag__"
   ]
  },
  {
   "cell_type": "markdown",
   "metadata": {},
   "source": [
    "Now is time to consider whether the borrower is on a hardship plan with the credit company or the bank or not."
   ]
  },
  {
   "cell_type": "code",
   "execution_count": 56,
   "metadata": {},
   "outputs": [
    {
     "data": {
      "image/png": "[encoded data removed]",
      "text/plain": [
       "<Figure size 864x720 with 1 Axes>"
      ]
     },
     "metadata": {},
     "output_type": "display_data"
    }
   ],
   "source": [
    "plt.figure(figsize = (12, 10))\n",
    "\n",
    "sns.countplot(x = 'hardship_flag',\n",
    "              data = df_c,\n",
    "              hue = df_impago.loan_status, \n",
    "              palette = 'Set2')\n",
    "\n",
    "plt.xlabel('Hardsip Flag \\n (N = No, Y = Yes)', size = 13)\n",
    "plt.title('Hardship flag vs. loan status', size = 16)\n",
    "plt.grid(ls = '-.')\n",
    "plt.legend(['Not Paid', 'Fully Paid'], fontsize = 14);"
   ]
  },
  {
   "cell_type": "markdown",
   "metadata": {},
   "source": [
    "Nearly the 100% of the borrowers haven't asked for a hardship flag."
   ]
  },
  {
   "cell_type": "code",
   "execution_count": 57,
   "metadata": {},
   "outputs": [],
   "source": [
    "df_c['hardship_flag'] = df_c.hardship_flag.map(lambda x: 0 if (x == 'N') else 1)"
   ]
  },
  {
   "cell_type": "code",
   "execution_count": 58,
   "metadata": {},
   "outputs": [
    {
     "data": {
      "text/plain": [
       "array([0, 1])"
      ]
     },
     "execution_count": 58,
     "metadata": {},
     "output_type": "execute_result"
    }
   ],
   "source": [
    "df_c['hardship_flag'].unique()"
   ]
  },
  {
   "cell_type": "markdown",
   "metadata": {},
   "source": [
    "We check out if we have correctly transformed all our categorical variables:"
   ]
  },
  {
   "cell_type": "code",
   "execution_count": 59,
   "metadata": {},
   "outputs": [
    {
     "data": {
      "text/html": [
       "<div>\n",
       "<style scoped>\n",
       "    .dataframe tbody tr th:only-of-type {\n",
       "        vertical-align: middle;\n",
       "    }\n",
       "\n",
       "    .dataframe tbody tr th {\n",
       "        vertical-align: top;\n",
       "    }\n",
       "\n",
       "    .dataframe thead th {\n",
       "        text-align: right;\n",
       "    }\n",
       "</style>\n",
       "<table border=\"1\" class=\"dataframe\">\n",
       "  <thead>\n",
       "    <tr style=\"text-align: right;\">\n",
       "      <th></th>\n",
       "      <th>application_type</th>\n",
       "      <th>emp_length</th>\n",
       "      <th>grade</th>\n",
       "      <th>hardship_flag</th>\n",
       "      <th>home_ownership</th>\n",
       "      <th>loan_status</th>\n",
       "      <th>purpose</th>\n",
       "      <th>pymnt_plan</th>\n",
       "      <th>verification_status</th>\n",
       "    </tr>\n",
       "  </thead>\n",
       "  <tbody>\n",
       "    <tr>\n",
       "      <th>8</th>\n",
       "      <td>0</td>\n",
       "      <td>1.0</td>\n",
       "      <td>0</td>\n",
       "      <td>0</td>\n",
       "      <td>1</td>\n",
       "      <td>1</td>\n",
       "      <td>1</td>\n",
       "      <td>0</td>\n",
       "      <td>0</td>\n",
       "    </tr>\n",
       "    <tr>\n",
       "      <th>10</th>\n",
       "      <td>0</td>\n",
       "      <td>0.0</td>\n",
       "      <td>1</td>\n",
       "      <td>0</td>\n",
       "      <td>0</td>\n",
       "      <td>1</td>\n",
       "      <td>0</td>\n",
       "      <td>0</td>\n",
       "      <td>1</td>\n",
       "    </tr>\n",
       "    <tr>\n",
       "      <th>24</th>\n",
       "      <td>0</td>\n",
       "      <td>1.0</td>\n",
       "      <td>0</td>\n",
       "      <td>0</td>\n",
       "      <td>1</td>\n",
       "      <td>1</td>\n",
       "      <td>0</td>\n",
       "      <td>0</td>\n",
       "      <td>0</td>\n",
       "    </tr>\n",
       "    <tr>\n",
       "      <th>42</th>\n",
       "      <td>0</td>\n",
       "      <td>1.0</td>\n",
       "      <td>0</td>\n",
       "      <td>0</td>\n",
       "      <td>0</td>\n",
       "      <td>1</td>\n",
       "      <td>0</td>\n",
       "      <td>0</td>\n",
       "      <td>1</td>\n",
       "    </tr>\n",
       "    <tr>\n",
       "      <th>91</th>\n",
       "      <td>0</td>\n",
       "      <td>1.0</td>\n",
       "      <td>0</td>\n",
       "      <td>0</td>\n",
       "      <td>1</td>\n",
       "      <td>1</td>\n",
       "      <td>0</td>\n",
       "      <td>0</td>\n",
       "      <td>1</td>\n",
       "    </tr>\n",
       "  </tbody>\n",
       "</table>\n",
       "</div>"
      ],
      "text/plain": [
       "    application_type  emp_length  grade  hardship_flag  home_ownership  \\\n",
       "8                  0         1.0      0              0               1   \n",
       "10                 0         0.0      1              0               0   \n",
       "24                 0         1.0      0              0               1   \n",
       "42                 0         1.0      0              0               0   \n",
       "91                 0         1.0      0              0               1   \n",
       "\n",
       "    loan_status  purpose  pymnt_plan  verification_status  \n",
       "8             1        1           0                    0  \n",
       "10            1        0           0                    1  \n",
       "24            1        0           0                    0  \n",
       "42            1        0           0                    1  \n",
       "91            1        0           0                    1  "
      ]
     },
     "execution_count": 59,
     "metadata": {},
     "output_type": "execute_result"
    }
   ],
   "source": [
    "df_c.head(5)"
   ]
  },
  {
   "cell_type": "markdown",
   "metadata": {},
   "source": [
    "We check the info of the categrical variables we have created:"
   ]
  },
  {
   "cell_type": "code",
   "execution_count": 60,
   "metadata": {},
   "outputs": [
    {
     "name": "stdout",
     "output_type": "stream",
     "text": [
      "<class 'pandas.core.frame.DataFrame'>\n",
      "Int64Index: 462191 entries, 8 to 421094\n",
      "Data columns (total 9 columns):\n",
      " #   Column               Non-Null Count   Dtype  \n",
      "---  ------               --------------   -----  \n",
      " 0   application_type     462191 non-null  int64  \n",
      " 1   emp_length           462191 non-null  float64\n",
      " 2   grade                462191 non-null  int64  \n",
      " 3   hardship_flag        462191 non-null  int64  \n",
      " 4   home_ownership       462191 non-null  int64  \n",
      " 5   loan_status          462191 non-null  int64  \n",
      " 6   purpose              462191 non-null  int64  \n",
      " 7   pymnt_plan           462191 non-null  int64  \n",
      " 8   verification_status  462191 non-null  int64  \n",
      "dtypes: float64(1), int64(8)\n",
      "memory usage: 45.3 MB\n"
     ]
    }
   ],
   "source": [
    "df_c.info()"
   ]
  },
  {
   "cell_type": "markdown",
   "metadata": {},
   "source": [
    "We need this variables will be object in order to transform with Pipelines"
   ]
  },
  {
   "cell_type": "code",
   "execution_count": 61,
   "metadata": {},
   "outputs": [],
   "source": [
    "df_c = df_c.astype(object)"
   ]
  },
  {
   "cell_type": "code",
   "execution_count": 62,
   "metadata": {},
   "outputs": [
    {
     "name": "stdout",
     "output_type": "stream",
     "text": [
      "<class 'pandas.core.frame.DataFrame'>\n",
      "Int64Index: 462191 entries, 8 to 421094\n",
      "Data columns (total 9 columns):\n",
      " #   Column               Non-Null Count   Dtype \n",
      "---  ------               --------------   ----- \n",
      " 0   application_type     462191 non-null  object\n",
      " 1   emp_length           462191 non-null  object\n",
      " 2   grade                462191 non-null  object\n",
      " 3   hardship_flag        462191 non-null  object\n",
      " 4   home_ownership       462191 non-null  object\n",
      " 5   loan_status          462191 non-null  object\n",
      " 6   purpose              462191 non-null  object\n",
      " 7   pymnt_plan           462191 non-null  object\n",
      " 8   verification_status  462191 non-null  object\n",
      "dtypes: object(9)\n",
      "memory usage: 45.3+ MB\n"
     ]
    }
   ],
   "source": [
    "df_c.info()"
   ]
  },
  {
   "cell_type": "markdown",
   "metadata": {},
   "source": [
    "### Concatenation of numeric and categorical DataFrames"
   ]
  },
  {
   "cell_type": "code",
   "execution_count": 63,
   "metadata": {},
   "outputs": [],
   "source": [
    "df_unido = pd.DataFrame(pd.concat([df_n, df_c], axis = 1))"
   ]
  },
  {
   "cell_type": "code",
   "execution_count": 64,
   "metadata": {},
   "outputs": [
    {
     "data": {
      "text/html": [
       "<div>\n",
       "<style scoped>\n",
       "    .dataframe tbody tr th:only-of-type {\n",
       "        vertical-align: middle;\n",
       "    }\n",
       "\n",
       "    .dataframe tbody tr th {\n",
       "        vertical-align: top;\n",
       "    }\n",
       "\n",
       "    .dataframe thead th {\n",
       "        text-align: right;\n",
       "    }\n",
       "</style>\n",
       "<table border=\"1\" class=\"dataframe\">\n",
       "  <thead>\n",
       "    <tr style=\"text-align: right;\">\n",
       "      <th></th>\n",
       "      <th>int_rate</th>\n",
       "      <th>annual_inc</th>\n",
       "      <th>fico_range_low</th>\n",
       "      <th>fico_range_high</th>\n",
       "      <th>pub_rec</th>\n",
       "      <th>total_acc</th>\n",
       "      <th>last_fico_range_high</th>\n",
       "      <th>last_fico_range_low</th>\n",
       "      <th>acc_now_delinq</th>\n",
       "      <th>tot_coll_amt</th>\n",
       "      <th>...</th>\n",
       "      <th>total_bc_limit</th>\n",
       "      <th>application_type</th>\n",
       "      <th>emp_length</th>\n",
       "      <th>grade</th>\n",
       "      <th>hardship_flag</th>\n",
       "      <th>home_ownership</th>\n",
       "      <th>loan_status</th>\n",
       "      <th>purpose</th>\n",
       "      <th>pymnt_plan</th>\n",
       "      <th>verification_status</th>\n",
       "    </tr>\n",
       "  </thead>\n",
       "  <tbody>\n",
       "    <tr>\n",
       "      <th>8</th>\n",
       "      <td>7.35</td>\n",
       "      <td>153000.0</td>\n",
       "      <td>720.0</td>\n",
       "      <td>724.0</td>\n",
       "      <td>1.0</td>\n",
       "      <td>46.0</td>\n",
       "      <td>724.0</td>\n",
       "      <td>720.0</td>\n",
       "      <td>0.0</td>\n",
       "      <td>0.0</td>\n",
       "      <td>...</td>\n",
       "      <td>28100.0</td>\n",
       "      <td>0</td>\n",
       "      <td>1</td>\n",
       "      <td>0</td>\n",
       "      <td>0</td>\n",
       "      <td>1</td>\n",
       "      <td>1</td>\n",
       "      <td>1</td>\n",
       "      <td>0</td>\n",
       "      <td>0</td>\n",
       "    </tr>\n",
       "    <tr>\n",
       "      <th>10</th>\n",
       "      <td>24.85</td>\n",
       "      <td>50000.0</td>\n",
       "      <td>685.0</td>\n",
       "      <td>689.0</td>\n",
       "      <td>0.0</td>\n",
       "      <td>5.0</td>\n",
       "      <td>669.0</td>\n",
       "      <td>665.0</td>\n",
       "      <td>0.0</td>\n",
       "      <td>0.0</td>\n",
       "      <td>...</td>\n",
       "      <td>3600.0</td>\n",
       "      <td>0</td>\n",
       "      <td>0</td>\n",
       "      <td>1</td>\n",
       "      <td>0</td>\n",
       "      <td>0</td>\n",
       "      <td>1</td>\n",
       "      <td>0</td>\n",
       "      <td>0</td>\n",
       "      <td>1</td>\n",
       "    </tr>\n",
       "    <tr>\n",
       "      <th>24</th>\n",
       "      <td>7.35</td>\n",
       "      <td>110000.0</td>\n",
       "      <td>710.0</td>\n",
       "      <td>714.0</td>\n",
       "      <td>0.0</td>\n",
       "      <td>27.0</td>\n",
       "      <td>719.0</td>\n",
       "      <td>715.0</td>\n",
       "      <td>0.0</td>\n",
       "      <td>0.0</td>\n",
       "      <td>...</td>\n",
       "      <td>83700.0</td>\n",
       "      <td>0</td>\n",
       "      <td>1</td>\n",
       "      <td>0</td>\n",
       "      <td>0</td>\n",
       "      <td>1</td>\n",
       "      <td>1</td>\n",
       "      <td>0</td>\n",
       "      <td>0</td>\n",
       "      <td>0</td>\n",
       "    </tr>\n",
       "    <tr>\n",
       "      <th>42</th>\n",
       "      <td>16.02</td>\n",
       "      <td>51979.0</td>\n",
       "      <td>690.0</td>\n",
       "      <td>694.0</td>\n",
       "      <td>2.0</td>\n",
       "      <td>21.0</td>\n",
       "      <td>659.0</td>\n",
       "      <td>655.0</td>\n",
       "      <td>0.0</td>\n",
       "      <td>251.0</td>\n",
       "      <td>...</td>\n",
       "      <td>18800.0</td>\n",
       "      <td>0</td>\n",
       "      <td>1</td>\n",
       "      <td>0</td>\n",
       "      <td>0</td>\n",
       "      <td>0</td>\n",
       "      <td>1</td>\n",
       "      <td>0</td>\n",
       "      <td>0</td>\n",
       "      <td>1</td>\n",
       "    </tr>\n",
       "    <tr>\n",
       "      <th>91</th>\n",
       "      <td>16.02</td>\n",
       "      <td>75000.0</td>\n",
       "      <td>685.0</td>\n",
       "      <td>689.0</td>\n",
       "      <td>0.0</td>\n",
       "      <td>10.0</td>\n",
       "      <td>684.0</td>\n",
       "      <td>680.0</td>\n",
       "      <td>0.0</td>\n",
       "      <td>0.0</td>\n",
       "      <td>...</td>\n",
       "      <td>3000.0</td>\n",
       "      <td>0</td>\n",
       "      <td>1</td>\n",
       "      <td>0</td>\n",
       "      <td>0</td>\n",
       "      <td>1</td>\n",
       "      <td>1</td>\n",
       "      <td>0</td>\n",
       "      <td>0</td>\n",
       "      <td>1</td>\n",
       "    </tr>\n",
       "    <tr>\n",
       "      <th>92</th>\n",
       "      <td>30.79</td>\n",
       "      <td>160000.0</td>\n",
       "      <td>675.0</td>\n",
       "      <td>679.0</td>\n",
       "      <td>1.0</td>\n",
       "      <td>36.0</td>\n",
       "      <td>699.0</td>\n",
       "      <td>695.0</td>\n",
       "      <td>0.0</td>\n",
       "      <td>0.0</td>\n",
       "      <td>...</td>\n",
       "      <td>26400.0</td>\n",
       "      <td>0</td>\n",
       "      <td>2</td>\n",
       "      <td>1</td>\n",
       "      <td>0</td>\n",
       "      <td>1</td>\n",
       "      <td>1</td>\n",
       "      <td>1</td>\n",
       "      <td>0</td>\n",
       "      <td>1</td>\n",
       "    </tr>\n",
       "    <tr>\n",
       "      <th>104</th>\n",
       "      <td>20.00</td>\n",
       "      <td>33000.0</td>\n",
       "      <td>665.0</td>\n",
       "      <td>669.0</td>\n",
       "      <td>0.0</td>\n",
       "      <td>19.0</td>\n",
       "      <td>599.0</td>\n",
       "      <td>595.0</td>\n",
       "      <td>0.0</td>\n",
       "      <td>0.0</td>\n",
       "      <td>...</td>\n",
       "      <td>7200.0</td>\n",
       "      <td>0</td>\n",
       "      <td>1</td>\n",
       "      <td>1</td>\n",
       "      <td>0</td>\n",
       "      <td>0</td>\n",
       "      <td>0</td>\n",
       "      <td>1</td>\n",
       "      <td>0</td>\n",
       "      <td>0</td>\n",
       "    </tr>\n",
       "    <tr>\n",
       "      <th>176</th>\n",
       "      <td>11.99</td>\n",
       "      <td>63000.0</td>\n",
       "      <td>665.0</td>\n",
       "      <td>669.0</td>\n",
       "      <td>0.0</td>\n",
       "      <td>17.0</td>\n",
       "      <td>714.0</td>\n",
       "      <td>710.0</td>\n",
       "      <td>0.0</td>\n",
       "      <td>254.0</td>\n",
       "      <td>...</td>\n",
       "      <td>8800.0</td>\n",
       "      <td>0</td>\n",
       "      <td>0</td>\n",
       "      <td>0</td>\n",
       "      <td>0</td>\n",
       "      <td>1</td>\n",
       "      <td>1</td>\n",
       "      <td>1</td>\n",
       "      <td>0</td>\n",
       "      <td>1</td>\n",
       "    </tr>\n",
       "    <tr>\n",
       "      <th>181</th>\n",
       "      <td>18.06</td>\n",
       "      <td>85000.0</td>\n",
       "      <td>665.0</td>\n",
       "      <td>669.0</td>\n",
       "      <td>0.0</td>\n",
       "      <td>10.0</td>\n",
       "      <td>634.0</td>\n",
       "      <td>630.0</td>\n",
       "      <td>0.0</td>\n",
       "      <td>0.0</td>\n",
       "      <td>...</td>\n",
       "      <td>11350.0</td>\n",
       "      <td>0</td>\n",
       "      <td>0</td>\n",
       "      <td>1</td>\n",
       "      <td>0</td>\n",
       "      <td>0</td>\n",
       "      <td>0</td>\n",
       "      <td>0</td>\n",
       "      <td>0</td>\n",
       "      <td>1</td>\n",
       "    </tr>\n",
       "    <tr>\n",
       "      <th>207</th>\n",
       "      <td>10.91</td>\n",
       "      <td>38000.0</td>\n",
       "      <td>675.0</td>\n",
       "      <td>679.0</td>\n",
       "      <td>0.0</td>\n",
       "      <td>16.0</td>\n",
       "      <td>734.0</td>\n",
       "      <td>730.0</td>\n",
       "      <td>0.0</td>\n",
       "      <td>0.0</td>\n",
       "      <td>...</td>\n",
       "      <td>9800.0</td>\n",
       "      <td>0</td>\n",
       "      <td>1</td>\n",
       "      <td>0</td>\n",
       "      <td>0</td>\n",
       "      <td>1</td>\n",
       "      <td>1</td>\n",
       "      <td>0</td>\n",
       "      <td>0</td>\n",
       "      <td>1</td>\n",
       "    </tr>\n",
       "    <tr>\n",
       "      <th>217</th>\n",
       "      <td>10.42</td>\n",
       "      <td>35000.0</td>\n",
       "      <td>665.0</td>\n",
       "      <td>669.0</td>\n",
       "      <td>0.0</td>\n",
       "      <td>7.0</td>\n",
       "      <td>689.0</td>\n",
       "      <td>685.0</td>\n",
       "      <td>0.0</td>\n",
       "      <td>408.0</td>\n",
       "      <td>...</td>\n",
       "      <td>2200.0</td>\n",
       "      <td>0</td>\n",
       "      <td>2</td>\n",
       "      <td>0</td>\n",
       "      <td>0</td>\n",
       "      <td>0</td>\n",
       "      <td>0</td>\n",
       "      <td>2</td>\n",
       "      <td>0</td>\n",
       "      <td>0</td>\n",
       "    </tr>\n",
       "    <tr>\n",
       "      <th>222</th>\n",
       "      <td>9.44</td>\n",
       "      <td>250000.0</td>\n",
       "      <td>710.0</td>\n",
       "      <td>714.0</td>\n",
       "      <td>0.0</td>\n",
       "      <td>34.0</td>\n",
       "      <td>719.0</td>\n",
       "      <td>715.0</td>\n",
       "      <td>0.0</td>\n",
       "      <td>0.0</td>\n",
       "      <td>...</td>\n",
       "      <td>77000.0</td>\n",
       "      <td>0</td>\n",
       "      <td>2</td>\n",
       "      <td>0</td>\n",
       "      <td>0</td>\n",
       "      <td>1</td>\n",
       "      <td>1</td>\n",
       "      <td>0</td>\n",
       "      <td>0</td>\n",
       "      <td>1</td>\n",
       "    </tr>\n",
       "  </tbody>\n",
       "</table>\n",
       "<p>12 rows × 34 columns</p>\n",
       "</div>"
      ],
      "text/plain": [
       "     int_rate  annual_inc  fico_range_low  fico_range_high  pub_rec  \\\n",
       "8        7.35    153000.0           720.0            724.0      1.0   \n",
       "10      24.85     50000.0           685.0            689.0      0.0   \n",
       "24       7.35    110000.0           710.0            714.0      0.0   \n",
       "42      16.02     51979.0           690.0            694.0      2.0   \n",
       "91      16.02     75000.0           685.0            689.0      0.0   \n",
       "92      30.79    160000.0           675.0            679.0      1.0   \n",
       "104     20.00     33000.0           665.0            669.0      0.0   \n",
       "176     11.99     63000.0           665.0            669.0      0.0   \n",
       "181     18.06     85000.0           665.0            669.0      0.0   \n",
       "207     10.91     38000.0           675.0            679.0      0.0   \n",
       "217     10.42     35000.0           665.0            669.0      0.0   \n",
       "222      9.44    250000.0           710.0            714.0      0.0   \n",
       "\n",
       "     total_acc  last_fico_range_high  last_fico_range_low  acc_now_delinq  \\\n",
       "8         46.0                 724.0                720.0             0.0   \n",
       "10         5.0                 669.0                665.0             0.0   \n",
       "24        27.0                 719.0                715.0             0.0   \n",
       "42        21.0                 659.0                655.0             0.0   \n",
       "91        10.0                 684.0                680.0             0.0   \n",
       "92        36.0                 699.0                695.0             0.0   \n",
       "104       19.0                 599.0                595.0             0.0   \n",
       "176       17.0                 714.0                710.0             0.0   \n",
       "181       10.0                 634.0                630.0             0.0   \n",
       "207       16.0                 734.0                730.0             0.0   \n",
       "217        7.0                 689.0                685.0             0.0   \n",
       "222       34.0                 719.0                715.0             0.0   \n",
       "\n",
       "     tot_coll_amt  ...  total_bc_limit  application_type  emp_length  grade  \\\n",
       "8             0.0  ...         28100.0                 0           1      0   \n",
       "10            0.0  ...          3600.0                 0           0      1   \n",
       "24            0.0  ...         83700.0                 0           1      0   \n",
       "42          251.0  ...         18800.0                 0           1      0   \n",
       "91            0.0  ...          3000.0                 0           1      0   \n",
       "92            0.0  ...         26400.0                 0           2      1   \n",
       "104           0.0  ...          7200.0                 0           1      1   \n",
       "176         254.0  ...          8800.0                 0           0      0   \n",
       "181           0.0  ...         11350.0                 0           0      1   \n",
       "207           0.0  ...          9800.0                 0           1      0   \n",
       "217         408.0  ...          2200.0                 0           2      0   \n",
       "222           0.0  ...         77000.0                 0           2      0   \n",
       "\n",
       "     hardship_flag  home_ownership  loan_status  purpose  pymnt_plan  \\\n",
       "8                0               1            1        1           0   \n",
       "10               0               0            1        0           0   \n",
       "24               0               1            1        0           0   \n",
       "42               0               0            1        0           0   \n",
       "91               0               1            1        0           0   \n",
       "92               0               1            1        1           0   \n",
       "104              0               0            0        1           0   \n",
       "176              0               1            1        1           0   \n",
       "181              0               0            0        0           0   \n",
       "207              0               1            1        0           0   \n",
       "217              0               0            0        2           0   \n",
       "222              0               1            1        0           0   \n",
       "\n",
       "     verification_status  \n",
       "8                      0  \n",
       "10                     1  \n",
       "24                     0  \n",
       "42                     1  \n",
       "91                     1  \n",
       "92                     1  \n",
       "104                    0  \n",
       "176                    1  \n",
       "181                    1  \n",
       "207                    1  \n",
       "217                    0  \n",
       "222                    1  \n",
       "\n",
       "[12 rows x 34 columns]"
      ]
     },
     "execution_count": 64,
     "metadata": {},
     "output_type": "execute_result"
    }
   ],
   "source": [
    "df_unido.head(12)"
   ]
  },
  {
   "cell_type": "code",
   "execution_count": 65,
   "metadata": {},
   "outputs": [
    {
     "name": "stdout",
     "output_type": "stream",
     "text": [
      "<class 'pandas.core.frame.DataFrame'>\n",
      "Int64Index: 462191 entries, 8 to 421094\n",
      "Data columns (total 34 columns):\n",
      " #   Column                 Non-Null Count   Dtype  \n",
      "---  ------                 --------------   -----  \n",
      " 0   int_rate               462191 non-null  float64\n",
      " 1   annual_inc             462191 non-null  float64\n",
      " 2   fico_range_low         462191 non-null  float64\n",
      " 3   fico_range_high        462191 non-null  float64\n",
      " 4   pub_rec                462191 non-null  float64\n",
      " 5   total_acc              462191 non-null  float64\n",
      " 6   last_fico_range_high   462191 non-null  float64\n",
      " 7   last_fico_range_low    462191 non-null  float64\n",
      " 8   acc_now_delinq         462191 non-null  float64\n",
      " 9   tot_coll_amt           462191 non-null  float64\n",
      " 10  tot_cur_bal            462191 non-null  float64\n",
      " 11  avg_cur_bal            462185 non-null  float64\n",
      " 12  bc_open_to_buy         457303 non-null  float64\n",
      " 13  bc_util                456978 non-null  float64\n",
      " 14  delinq_amnt            462191 non-null  float64\n",
      " 15  mo_sin_old_il_acct     448967 non-null  float64\n",
      " 16  mo_sin_rcnt_rev_tl_op  462191 non-null  float64\n",
      " 17  mort_acc               462191 non-null  float64\n",
      " 18  num_bc_sats            462191 non-null  float64\n",
      " 19  num_tl_120dpd_2m       442856 non-null  float64\n",
      " 20  pct_tl_nvr_dlq         462191 non-null  float64\n",
      " 21  percent_bc_gt_75       457033 non-null  float64\n",
      " 22  tot_hi_cred_lim        462191 non-null  float64\n",
      " 23  total_bal_ex_mort      462191 non-null  float64\n",
      " 24  total_bc_limit         462191 non-null  float64\n",
      " 25  application_type       462191 non-null  object \n",
      " 26  emp_length             462191 non-null  object \n",
      " 27  grade                  462191 non-null  object \n",
      " 28  hardship_flag          462191 non-null  object \n",
      " 29  home_ownership         462191 non-null  object \n",
      " 30  loan_status            462191 non-null  object \n",
      " 31  purpose                462191 non-null  object \n",
      " 32  pymnt_plan             462191 non-null  object \n",
      " 33  verification_status    462191 non-null  object \n",
      "dtypes: float64(25), object(9)\n",
      "memory usage: 133.4+ MB\n"
     ]
    }
   ],
   "source": [
    "df_unido.info()"
   ]
  },
  {
   "cell_type": "markdown",
   "metadata": {},
   "source": [
    "Once we have the concatenation for both numeric and categorical variables, we export it to a csv document in order to have our cleaned data ready to load in other steps. "
   ]
  },
  {
   "cell_type": "code",
   "execution_count": 181,
   "metadata": {},
   "outputs": [],
   "source": [
    "df_unido.to_csv('../data/df_unido.csv')"
   ]
  },
  {
   "cell_type": "markdown",
   "metadata": {},
   "source": [
    "### Scaling variables and PipeLines"
   ]
  },
  {
   "cell_type": "markdown",
   "metadata": {},
   "source": [
    "We execute now a pipeline function in order to scale our variables, transform our NaN values and trear apart the categorical variables in a more efficient way."
   ]
  },
  {
   "cell_type": "code",
   "execution_count": 66,
   "metadata": {},
   "outputs": [],
   "source": [
    "numeric_transformer = Pipeline(steps=[\n",
    "    ('imputer', SimpleImputer(strategy='median')),\n",
    "    ('scaler', StandardScaler())])"
   ]
  },
  {
   "cell_type": "code",
   "execution_count": 67,
   "metadata": {},
   "outputs": [],
   "source": [
    "numeric_features = df_unido.select_dtypes(include=['int64', 'float64','int32']).columns"
   ]
  },
  {
   "cell_type": "code",
   "execution_count": 68,
   "metadata": {},
   "outputs": [],
   "source": [
    "preprocessor1 = ColumnTransformer(\n",
    "    transformers=[\n",
    "        ('num', numeric_transformer, numeric_features)])"
   ]
  },
  {
   "cell_type": "code",
   "execution_count": null,
   "metadata": {},
   "outputs": [],
   "source": [
    "pl2 = '../pipelines/tratamiento1.sav'\n",
    "\n",
    "pickle.dump(preprocessor1, open(pl2, 'wb'))"
   ]
  },
  {
   "cell_type": "markdown",
   "metadata": {},
   "source": [
    "We saved the pipelines to use in other notebooks"
   ]
  },
  {
   "cell_type": "markdown",
   "metadata": {},
   "source": [
    "### Data Splitting"
   ]
  },
  {
   "cell_type": "code",
   "execution_count": 73,
   "metadata": {},
   "outputs": [],
   "source": [
    "X = df_unido.drop('loan_status', axis=1)\n",
    "\n",
    "y = df_unido['loan_status']\n",
    "Y = y.astype(int)"
   ]
  },
  {
   "cell_type": "code",
   "execution_count": 74,
   "metadata": {},
   "outputs": [],
   "source": [
    "x_train, x_test, y_train, y_test = train_test_split(X, \n",
    "                                                    Y, \n",
    "                                                    test_size=0.3,\n",
    "                                                    random_state=1789)"
   ]
  },
  {
   "cell_type": "code",
   "execution_count": null,
   "metadata": {},
   "outputs": [],
   "source": [
    "x_train.to_csv('../data/x_train.csv', index=False)\n",
    "x_test.to_csv('../data/x_test.csv', index=False)\n",
    "y_train.to_csv('../data/y_train.csv', index=False)\n",
    "y_test.to_csv('../data/y_test.csv', index=False)"
   ]
  },
  {
   "cell_type": "markdown",
   "metadata": {},
   "source": [
    "### References"
   ]
  },
  {
   "cell_type": "markdown",
   "metadata": {},
   "source": [
    "+ https://scikit-learn.org/stable/modules/preprocessing.html\n",
    "+ https://scikit-learn.org/stable/modules/generated/sklearn.pipeline.Pipeline.html\n",
    "+ https://towardsdatascience.com/stop-one-hot-encoding-your-categorical-variables-bbb0fba89809\n",
    "+ https://medium.com/vickdata/a-simple-guide-to-scikit-learn-pipelines-4ac0d974bdcf"
   ]
  }
 ],
 "metadata": {
  "kernelspec": {
   "display_name": "Python 3",
   "language": "python",
   "name": "python3"
  },
  "language_info": {
   "codemirror_mode": {
    "name": "ipython",
    "version": 3
   },
   "file_extension": ".py",
   "mimetype": "text/x-python",
   "name": "python",
   "nbconvert_exporter": "python",
   "pygments_lexer": "ipython3",
   "version": "3.7.1"
  }
 },
 "nbformat": 4,
 "nbformat_minor": 4
}
