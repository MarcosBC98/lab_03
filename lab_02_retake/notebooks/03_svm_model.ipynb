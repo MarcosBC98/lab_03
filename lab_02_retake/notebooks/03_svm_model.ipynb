{
 "cells": [
  {
   "cell_type": "markdown",
   "metadata": {},
   "source": [
    "# Marcos Barragán Corredera\n",
    "\n",
    "https://www.linkedin.com/in/marcos-barragán-corredera-7415931b7\n",
    "\n",
    "# Adrián González Retamosa\n",
    "\n",
    "https://www.linkedin.com/in/adrián-gonzález-retamosa-b283a51b3\n",
    "\n",
    "## Machine Learning\n",
    "\n",
    "## CUNEF\n",
    "\n",
    "### 04/12/2020"
   ]
  },
  {
   "cell_type": "markdown",
   "metadata": {},
   "source": [
    "## SVM Model"
   ]
  },
  {
   "cell_type": "code",
   "execution_count": 1,
   "metadata": {},
   "outputs": [],
   "source": [
    "import pandas as pd\n",
    "from sklearn.pipeline import Pipeline\n",
    "from sklearn.svm import SVC\n",
    "from sklearn.svm import LinearSVC\n",
    "from sklearn import metrics\n",
    "import pickle\n",
    "import matplotlib.pyplot as plt\n",
    "import matplotlib.pyplot as pltimport\n",
    "from sklearn.metrics import roc_auc_score, roc_curve, auc, confusion_matrix, classification_report\n",
    "import scikitplot as skplt\n",
    "import matplotlib.pyplot as plt\n",
    "import matplotlib.pyplot as pltimport \n",
    "from sklearn.metrics import plot_confusion_matrix"
   ]
  },
  {
   "cell_type": "code",
   "execution_count": 2,
   "metadata": {},
   "outputs": [],
   "source": [
    "X_train = pd.read_csv('../data/x_train.csv')\n",
    "X_test = pd.read_csv('../data/x_test.csv')\n",
    "Y_train = pd.read_csv('../data/y_train.csv')\n",
    "Y_test = pd.read_csv('../data/y_test.csv')"
   ]
  },
  {
   "cell_type": "markdown",
   "metadata": {},
   "source": [
    "Load the Pipeline"
   ]
  },
  {
   "cell_type": "code",
   "execution_count": 3,
   "metadata": {},
   "outputs": [],
   "source": [
    "pl2 = '../pipelines/tratamiento1.sav'\n",
    "tratamiento1 = pickle.load(open(pl2, 'rb'))"
   ]
  },
  {
   "cell_type": "markdown",
   "metadata": {},
   "source": [
    "We build now the linear Support Vector Machine model"
   ]
  },
  {
   "cell_type": "code",
   "execution_count": 5,
   "metadata": {},
   "outputs": [
    {
     "name": "stderr",
     "output_type": "stream",
     "text": [
      "/Users/adrian_gr/opt/anaconda3/lib/python3.8/site-packages/sklearn/utils/validation.py:73: DataConversionWarning: A column-vector y was passed when a 1d array was expected. Please change the shape of y to (n_samples, ), for example using ravel().\n",
      "  return f(**kwargs)\n"
     ]
    },
    {
     "name": "stdout",
     "output_type": "stream",
     "text": [
      "CPU times: user 1min 39s, sys: 766 ms, total: 1min 40s\n",
      "Wall time: 1min 42s\n"
     ]
    },
    {
     "name": "stderr",
     "output_type": "stream",
     "text": [
      "/Users/adrian_gr/opt/anaconda3/lib/python3.8/site-packages/sklearn/svm/_base.py:246: ConvergenceWarning: Solver terminated early (max_iter=3000).  Consider pre-processing your data with StandardScaler or MinMaxScaler.\n",
      "  warnings.warn('Solver terminated early (max_iter=%i).'\n"
     ]
    },
    {
     "data": {
      "text/plain": [
       "Pipeline(steps=[('preprocesado',\n",
       "                 ColumnTransformer(transformers=[('num',\n",
       "                                                  Pipeline(steps=[('imputer',\n",
       "                                                                   SimpleImputer(strategy='median')),\n",
       "                                                                  ('scaler',\n",
       "                                                                   StandardScaler())]),\n",
       "                                                  Index(['int_rate', 'annual_inc', 'fico_range_low', 'fico_range_high',\n",
       "       'pub_rec', 'total_acc', 'last_fico_range_high', 'last_fico_range_low',\n",
       "       'acc_now_delinq', 'tot_coll_amt', 'tot_cur_bal', 'avg_cur_bal',\n",
       "       'bc_open_to_buy', 'bc_util', 'delinq_amnt', 'mo_sin_old_il_acct',\n",
       "       'mo_sin_rcnt_rev_tl_op', 'mort_acc', 'num_bc_sats', 'num_tl_120dpd_2m',\n",
       "       'pct_tl_nvr_dlq', 'percent_bc_gt_75', 'tot_hi_cred_lim',\n",
       "       'total_bal_ex_mort', 'total_bc_limit'],\n",
       "      dtype='object'))])),\n",
       "                ('clasificador', SVC(max_iter=3000, random_state=1789))])"
      ]
     },
     "execution_count": 5,
     "metadata": {},
     "output_type": "execute_result"
    }
   ],
   "source": [
    "%%time\n",
    "\n",
    "svm_m = Pipeline(steps=[\n",
    "                       ('preprocesado', tratamiento1),\n",
    "                       ('clasificador', SVC(random_state = 1789,\n",
    "                                            kernel = 'rbf',\n",
    "                                            max_iter = 3000))])\n",
    "\n",
    "svm_m.fit(X_train, Y_train)"
   ]
  },
  {
   "cell_type": "markdown",
   "metadata": {},
   "source": [
    "As in the other models, we can check the score for this model. Doing this, we discover that it has the lowest value of all. "
   ]
  },
  {
   "cell_type": "code",
   "execution_count": 5,
   "metadata": {},
   "outputs": [
    {
     "data": {
      "text/plain": [
       "0.7251779571172029"
      ]
     },
     "execution_count": 5,
     "metadata": {},
     "output_type": "execute_result"
    }
   ],
   "source": [
    "svm_ml.score(X_train, Y_train)"
   ]
  },
  {
   "cell_type": "markdown",
   "metadata": {},
   "source": [
    "We found curious that the score is better for the test samples than for the train ones. it may be overfitting"
   ]
  },
  {
   "cell_type": "code",
   "execution_count": 8,
   "metadata": {},
   "outputs": [
    {
     "data": {
      "text/plain": [
       "0.6005279176102353"
      ]
     },
     "execution_count": 8,
     "metadata": {},
     "output_type": "execute_result"
    }
   ],
   "source": [
    "svm_ml.score(X_test, Y_test)"
   ]
  },
  {
   "cell_type": "markdown",
   "metadata": {},
   "source": [
    "__Enhancing our SVM model__\n",
    "\n",
    "We are not pleased enough with the first model we have built, so we will treat it in order to achieve better results:"
   ]
  },
  {
   "cell_type": "code",
   "execution_count": 27,
   "metadata": {},
   "outputs": [
    {
     "name": "stderr",
     "output_type": "stream",
     "text": [
      "/Users/adrian_gr/opt/anaconda3/lib/python3.8/site-packages/sklearn/utils/validation.py:73: DataConversionWarning: A column-vector y was passed when a 1d array was expected. Please change the shape of y to (n_samples, ), for example using ravel().\n",
      "  return f(**kwargs)\n"
     ]
    },
    {
     "name": "stdout",
     "output_type": "stream",
     "text": [
      "CPU times: user 12min 40s, sys: 5.37 s, total: 12min 45s\n",
      "Wall time: 12min 59s\n"
     ]
    },
    {
     "name": "stderr",
     "output_type": "stream",
     "text": [
      "/Users/adrian_gr/opt/anaconda3/lib/python3.8/site-packages/sklearn/svm/_base.py:246: ConvergenceWarning: Solver terminated early (max_iter=2000).  Consider pre-processing your data with StandardScaler or MinMaxScaler.\n",
      "  warnings.warn('Solver terminated early (max_iter=%i).'\n"
     ]
    },
    {
     "data": {
      "text/plain": [
       "Pipeline(steps=[('preprocesado',\n",
       "                 ColumnTransformer(transformers=[('num',\n",
       "                                                  Pipeline(steps=[('imputer',\n",
       "                                                                   SimpleImputer(strategy='median')),\n",
       "                                                                  ('scaler',\n",
       "                                                                   StandardScaler())]),\n",
       "                                                  Index(['int_rate', 'annual_inc', 'fico_range_low', 'fico_range_high',\n",
       "       'pub_rec', 'total_acc', 'last_fico_range_high', 'last_fico_range_low',\n",
       "       'acc_now_delinq', 'tot_coll_amt', 'tot_cur_bal', 'avg_cur_bal',\n",
       "       'bc_open_to_buy', 'bc_util', 'delinq_amnt', 'mo_sin_old_il_acct',\n",
       "       'mo_sin_rcnt_rev_tl_op', 'mort_acc', 'num_bc_sats', 'num_tl_120dpd_2m',\n",
       "       'pct_tl_nvr_dlq', 'percent_bc_gt_75', 'tot_hi_cred_lim',\n",
       "       'total_bal_ex_mort', 'total_bc_limit'],\n",
       "      dtype='object'))])),\n",
       "                ('clasificador',\n",
       "                 SVC(C=1.5, max_iter=2000, probability=True,\n",
       "                     random_state=1789))])"
      ]
     },
     "execution_count": 27,
     "metadata": {},
     "output_type": "execute_result"
    }
   ],
   "source": [
    "%%time\n",
    "\n",
    "svm_ml = Pipeline(steps=[\n",
    "                        ('preprocesado', tratamiento1),\n",
    "                        ('clasificador', SVC(random_state=1789,\n",
    "                                             C=1.5,\n",
    "                                             max_iter=2000,\n",
    "                                             probability=True))])\n",
    "\n",
    "svm_ml.fit(X_train, Y_train)"
   ]
  },
  {
   "cell_type": "markdown",
   "metadata": {},
   "source": [
    "Recalculating both scores again, we get:"
   ]
  },
  {
   "cell_type": "code",
   "execution_count": 28,
   "metadata": {},
   "outputs": [
    {
     "data": {
      "text/plain": [
       "0.7251779571172029"
      ]
     },
     "execution_count": 28,
     "metadata": {},
     "output_type": "execute_result"
    }
   ],
   "source": [
    "svm_ml.score(X_train, Y_train)"
   ]
  },
  {
   "cell_type": "code",
   "execution_count": 29,
   "metadata": {},
   "outputs": [
    {
     "data": {
      "text/plain": [
       "0.7256198704726737"
      ]
     },
     "execution_count": 29,
     "metadata": {},
     "output_type": "execute_result"
    }
   ],
   "source": [
    "svm_ml.score(X_test, Y_test)"
   ]
  },
  {
   "cell_type": "markdown",
   "metadata": {},
   "source": [
    "We have developed a better scored SVM model, and a 73% of accuracy lead us to think we are not commiting overfitting when enhancing the SVM model. "
   ]
  },
  {
   "cell_type": "markdown",
   "metadata": {},
   "source": [
    "Calculation of predictions and probabilities are represented down here: "
   ]
  },
  {
   "cell_type": "code",
   "execution_count": 9,
   "metadata": {},
   "outputs": [],
   "source": [
    "Y_pred = svm_ml.predict(X_test)"
   ]
  },
  {
   "cell_type": "code",
   "execution_count": 10,
   "metadata": {},
   "outputs": [],
   "source": [
    "Y_pro = svm_ml.predict_proba(X_test)"
   ]
  },
  {
   "cell_type": "markdown",
   "metadata": {},
   "source": [
    "Printing the results of SVM for the predicted data, we can notice that the accuracy about a 73%, but also:\n",
    "\n",
    "+ If we set that somebody is not going to pay, we hit the result 45% of the cases.\n",
    "\n",
    "+ Moreover, if we establish somebody is going to pay, we hit the 80% of the cases.\n",
    "\n",
    "This model is not good for the problem we are treating, because we want to know who is not going to pay, and this model gives us a worse accuracy (45%) than if we threw a coin to the air."
   ]
  },
  {
   "cell_type": "code",
   "execution_count": 32,
   "metadata": {},
   "outputs": [
    {
     "name": "stdout",
     "output_type": "stream",
     "text": [
      "              precision    recall  f1-score   support\n",
      "\n",
      "           0       0.45      0.39      0.42     34886\n",
      "           1       0.80      0.84      0.82    103772\n",
      "\n",
      "    accuracy                           0.73    138658\n",
      "   macro avg       0.63      0.61      0.62    138658\n",
      "weighted avg       0.71      0.73      0.72    138658\n",
      "\n"
     ]
    }
   ],
   "source": [
    "print(classification_report(Y_test, Y_pred))"
   ]
  },
  {
   "cell_type": "markdown",
   "metadata": {},
   "source": [
    "Let's plot out the ROC curve, confusion matrices and cumulative gains curve to see their behaviour over the predicted data.\n",
    "\n",
    "__ROC curve__"
   ]
  },
  {
   "cell_type": "code",
   "execution_count": 35,
   "metadata": {},
   "outputs": [],
   "source": [
    "def roc(model, title):\n",
    "    \n",
    "    y_pred_prob = model.predict_proba(X_test)\n",
    "    \n",
    "    skplt.metrics.plot_roc(Y_test, Y_pro) # un roc con todas las metricas\n",
    "    plt.title(f\"ROCs curve for {title}.\");"
   ]
  },
  {
   "cell_type": "code",
   "execution_count": 36,
   "metadata": {},
   "outputs": [
    {
     "data": {
      "image/png": "[encoded data removed]",
      "text/plain": [
       "<Figure size 432x288 with 1 Axes>"
      ]
     },
     "metadata": {
      "needs_background": "light"
     },
     "output_type": "display_data"
    }
   ],
   "source": [
    "roc(svm_ml, 'SVM')"
   ]
  },
  {
   "cell_type": "markdown",
   "metadata": {},
   "source": [
    "__Confusion Matrix__"
   ]
  },
  {
   "cell_type": "code",
   "execution_count": 23,
   "metadata": {},
   "outputs": [
    {
     "data": {
      "image/png": "[encoded data removed]",
      "text/plain": [
       "<Figure size 432x288 with 2 Axes>"
      ]
     },
     "metadata": {
      "needs_background": "light"
     },
     "output_type": "display_data"
    }
   ],
   "source": [
    "plot_confusion_matrix(svm_ml, X=X_test, y_true=Y_test);"
   ]
  },
  {
   "cell_type": "markdown",
   "metadata": {},
   "source": [
    "__Normalized Confusion Matrix__:"
   ]
  },
  {
   "cell_type": "code",
   "execution_count": 11,
   "metadata": {},
   "outputs": [
    {
     "data": {
      "image/png": "[encoded data removed]",
      "text/plain": [
       "<Figure size 432x288 with 2 Axes>"
      ]
     },
     "metadata": {
      "needs_background": "light"
     },
     "output_type": "display_data"
    }
   ],
   "source": [
    "plot_confusion_matrix(svm_ml, X=X_test, y_true=Y_test, normalize='true');"
   ]
  },
  {
   "cell_type": "markdown",
   "metadata": {},
   "source": [
    "We can check here what I said in the _classification _ report_ chunk. The model is not good for this problem"
   ]
  },
  {
   "cell_type": "markdown",
   "metadata": {},
   "source": [
    "Saving the model:"
   ]
  },
  {
   "cell_type": "code",
   "execution_count": 40,
   "metadata": {},
   "outputs": [],
   "source": [
    "model = '../modelos/svm.sav'\n",
    "pickle.dump(svm_ml, open(model, 'wb'))"
   ]
  },
  {
   "cell_type": "markdown",
   "metadata": {},
   "source": [
    "### References"
   ]
  },
  {
   "cell_type": "markdown",
   "metadata": {},
   "source": [
    "+ https://scikit-learn.org/stable/modules/generated/sklearn.svm.SVC.html\n",
    "+ https://docs.python.org/3/library/pickle.html\n",
    "+ https://scikit-learn.org/stable/modules/svm.html"
   ]
  }
 ],
 "metadata": {
  "kernelspec": {
   "display_name": "Python 3",
   "language": "python",
   "name": "python3"
  },
  "language_info": {
   "codemirror_mode": {
    "name": "ipython",
    "version": 3
   },
   "file_extension": ".py",
   "mimetype": "text/x-python",
   "name": "python",
   "nbconvert_exporter": "python",
   "pygments_lexer": "ipython3",
   "version": "3.8.3"
  }
 },
 "nbformat": 4,
 "nbformat_minor": 4
}
